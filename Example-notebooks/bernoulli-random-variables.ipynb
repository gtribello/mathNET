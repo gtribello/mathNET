{
 "cells": [
  {
   "cell_type": "code",
   "execution_count": 4,
   "metadata": {},
   "outputs": [
    {
     "data": {
      "text/html": [
       "<script>jQuery(function() {if(jQuery(\"body.notebook_app\").length==0) {jQuery(\".input_area\").toggle(); jQuery(\".prompt\").toggle();}});</script>"
      ]
     },
     "metadata": {},
     "output_type": "display_data"
    }
   ],
   "source": [
    "import IPython.core.display as di\n",
    "\n",
    "di.display_html('<script>jQuery(function() {if(jQuery(\"body.notebook_app\").length==0) {jQuery(\".input_area\").toggle(); jQuery(\".prompt\").toggle();}});</script>', raw=True)"
   ]
  },
  {
   "cell_type": "markdown",
   "metadata": {},
   "source": [
    "# The Bernoulli Random Variable"
   ]
  },
  {
   "cell_type": "markdown",
   "metadata": {},
   "source": [
    "## Prerequisits\n",
    "\n",
    "To understand the material in these notes you need to know something about the sigma notation for describing summations.\n",
    "It is also useful to learn about piecewise functions and the Heavyside step function in particular.  You can find information on these topics in these places.\n",
    "\n",
    "- Sigma notation: https://www.khanacademy.org/math/precalculus/seq\\_induction/geometric-sequence-series/v/sigma-notation-sum\n",
    "- Piecewise functions: https://en.wikipedia.org/wiki/Piecewise\n",
    "- Heavyside step function: https://en.wikipedia.org/wiki/Heaviside\\_step\\_function\n",
    "\n",
    "## Introduction\n",
    "\n",
    "The Bernoulli random variable is used to describe the results from experiments that have two possible outcomes.\n",
    "As an example the Bernoulli random variable can be used to describe the outcome of flipping a coin.  Oftentimes\n",
    "we use a Bernoulli random variable to describe whether a particular thing happened when we did our experient. For \n",
    "example, we can describe the outcome of a test to test for a particular disease using the Bernoulli random variable, $X$.  This random vairable will have $X=1$ if the person has the disease or $X=0$ if the person is healthy.  We often call these sort of true/false experiments trials and thus say that the parameter, $p$, for the Bernoulli random variable gives us the probablity that a particular trial will be successful.\n",
    "\n",
    "## Probability mass function\n",
    "\n",
    "The Bernoulli random variable can have a value of either 0 or 1. It is thus a discrete random variable as it only takes on\n",
    "integer values.  Because it is a discrete random variable it has a probablity mass function rather than a probablity density function.  This probablity mass is as follows:\n",
    "\n",
    "$$\n",
    "P(X=x) = \n",
    "\\begin{cases}\n",
    " (1-p) & \\textrm{if} \\quad x=0 \\\\\n",
    " p & \\textrm{if} \\quad x=1 \\\\\n",
    " 0 & \\textrm{otherwise}\n",
    "\\end{cases}\n",
    "$$\n",
    "\n",
    "This form comes about because we want the probablity of sucess ($X=1$) to be equal to $p$.  Sucess ($X=1$) and failure ($X=0$) are mutually exclusive outcomes of this experiment and the only possible outcomes.  Having $X>1$ is impossible and thus the probablity $P(X>1)=0$. Becaue our random variable must be normalized, $\\sum_{i=0}^\\infty P(X=i) = 1$, we therefore arrive at\n",
    "\n",
    "\n",
    "$$\n",
    "1 = P(X=0) + P(X=1) = 1 = P(X=0) + p \\qquad \\rightarrow  \\qquad P(X=0) = 1-p\n",
    "$$\n",
    "\n",
    "## Expectation\n",
    "\n",
    "The expectation, $\\mathbb{E}(X)$, of the Bernoulli random variable, $X$, with parameter $p$ is:\n",
    "$$\n",
    "\\mathbb{E}(X) = p\n",
    "$$\n",
    "We can prove this by remembering that the expectation of a discrete random variable is equal to:\n",
    "$$\n",
    "\\mathbb{E}(X) = \\sum_{i=0}^\\infty x_i P(X=x_i)\n",
    "$$\n",
    "When we substitute the probability mass function for a Bernoulli random variable into this expression we get:\n",
    "$$\n",
    "\\mathbb{E}(X) = 0 \\times (1-p) + 1 \\times p = p\n",
    "$$\n",
    "\n",
    "## Sample mean\n",
    "\n",
    "\n",
    "To create the figure below I generated a 500 bernoulli random variables, $\\{X_i\\}$, with parameter $p=0.2$.  I then computed the sample mean using the following expression:\n",
    "\n",
    "$$\n",
    "\\mu_n = \\frac{1}{n} \\sum_{i=1}^n X_i\n",
    "$$\n",
    "\n",
    "with values of $n$ ranging from 1 to 500.  $\\mu_n$ is shown on the $y$ axis of the graph below while $n$ is shown on the $x$ axis.  As you can see the sample mean $\\mu_n$ fluctuates initially when $n$ is small.  When $n$ is large, however, the value of the sample mean settles down to a value that is close to the expectation of the random variable.  This behavior accords with the predictions of the law of large numbers and the central limit theorem.  I have deliberately hidden the code that I have used to generate this figure in this report.  In your report you should generate a similar figure and you should <b> show the code that you used to generate the figure </b>.  "
   ]
  },
  {
   "cell_type": "code",
   "execution_count": 1,
   "metadata": {},
   "outputs": [
    {
     "data": {
      "image/png": "[encoded data removed]",
      "text/plain": [
       "<matplotlib.figure.Figure at 0x7f388ccf1390>"
      ]
     },
     "metadata": {},
     "output_type": "display_data"
    }
   ],
   "source": [
    "import matplotlib.pyplot as plt\n",
    "%matplotlib inline \n",
    "import random\n",
    "\n",
    "def bernoulli() :\n",
    "    rr = random.uniform(0,1)\n",
    "    if rr<0.2 :\n",
    "        return 1\n",
    "    return 0\n",
    "\n",
    "tot, rsum, n, rmeans = 0,0, [], []\n",
    "for i in range(1,500) :\n",
    "    tot += 1\n",
    "    rsum += bernoulli()\n",
    "    n.append(tot)\n",
    "    rmeans.append( rsum / tot )\n",
    "    \n",
    "plt.plot( n, rmeans )\n",
    "plt.title(\"Sample means caclulated from different sized samples of Bernoulli random variables\")\n",
    "plt.xlabel(\"n\")\n",
    "plt.ylabel(\"$\\mu_n$\")\n",
    "plt.show()"
   ]
  },
  {
   "cell_type": "markdown",
   "metadata": {},
   "source": [
    "## Estimating histograms\n",
    "\n",
    "To create the figure below I generated 500 Bernoulli random variables, $\\{X_i\\}$, with parameter $p=0.7$.  I then computed the two components of the histogram using:\n",
    "\n",
    "$$\n",
    "h_0 = 1 - \\frac{1}{n} \\sum_{i=1}^n X_i \\qquad \\textrm{and} \\qquad h_1 = \\frac{1}{n} \\sum_{i=1}^n X_i\n",
    "$$\n",
    "\n",
    "in these expressions $n=500$.  The figure I obtain for the histogram is shown below.  The histogram provides an estimate of the probability mass function for the random vairable and as you can see the heights of the bars of the histogram below are approximately 0.3 and 0.7 respectively.  This is in accordance with what would be expected given the probability mass function for this random variable.  I have hidden the code used to generate this figure once more.  In your report you should generate a figure like this for your particular random variable and <b> you should show the code that was used to generate the figure. </b>"
   ]
  },
  {
   "cell_type": "code",
   "execution_count": 2,
   "metadata": {},
   "outputs": [
    {
     "data": {
      "image/png": "[encoded data removed]",
      "text/plain": [
       "<matplotlib.figure.Figure at 0x7f386a302ac8>"
      ]
     },
     "metadata": {},
     "output_type": "display_data"
    }
   ],
   "source": [
    "def bernoulli() :\n",
    "    rr = random.uniform(0,1)\n",
    "    if rr<0.7 :\n",
    "        return 1\n",
    "    return 0\n",
    "\n",
    "tot, rsum = 0,0\n",
    "for i in range(1,500) :\n",
    "    tot += 1\n",
    "    rsum += bernoulli()\n",
    "    \n",
    "bins, weights = [0, 1], [ 1 - rsum/tot, rsum/tot ]\n",
    "\n",
    "fig, ax = plt.subplots()\n",
    "ax.set_title('Histogram for a Bernoulli random variable estimated from 500 samples')\n",
    "ax.set_xlabel('x')\n",
    "ax.set_ylabel('$F_X(x)$')\n",
    "rects1 = ax.bar(bins, weights, [0.01,0.01], color='r')\n",
    "plt.show()"
   ]
  },
  {
   "cell_type": "markdown",
   "metadata": {},
   "source": [
    "\n",
    "## Variance\n",
    "\n",
    "The variance, $\\textrm{var}(X)$, of the Bernoulli random variable, $X$, with parameter $p$ is:\n",
    "\n",
    "$$\n",
    "\\textrm{var}(X) = p(1-p)\n",
    "$$\n",
    "\n",
    "We prove this by remembering that the variance of a random variable is equal to:\n",
    "\n",
    "$$\n",
    "\\textrm{var}(X) = \\mathbb{E}(X^2) - [\\mathbb{E}(X)]^2\n",
    "$$\n",
    "\n",
    "We have already calculated the expectation $\\mathbb{E}(X)$ above and thus need only calculate the expectation\n",
    "of a function of the random vairable $\\mathbb{E}(X^2)$.  For a discrete random variable we do this as follows:\n",
    "\n",
    "$$\n",
    "\\mathbb{E}(X^2) = \\sum_{i=0}^\\infty x_i^2 P(X=x_i)\n",
    "$$\n",
    "\n",
    "When we do this for the Bernoulli random variable we find that:\n",
    "\n",
    "$$\n",
    "\\mathbb{E}(X^2) = 0^2 \\times ( 1-p ) + 1^2 \\times p = p\n",
    "$$\n",
    "\n",
    "Substituting this and $\\mathbb{E}(X)$ into our formula for the variance gives:\n",
    "\n",
    "$$\n",
    "\\textrm{var}(X) = \\mathbb{E}(X^2) - [\\mathbb{E}(X)]^2 = p - p^2 = p(1-p)\n",
    "$$\n",
    "\n",
    "## Bibliography\n",
    "\n",
    "In compiling the above report I used the following resources:\n",
    "\n",
    "\n",
    "- https://en.wikipedia.org/wiki/Bernoulli\\_distribution\n",
    "- SOR3012 notes chapter 4"
   ]
  },
  {
   "cell_type": "code",
   "execution_count": null,
   "metadata": {
    "collapsed": true
   },
   "outputs": [],
   "source": []
  }
 ],
 "metadata": {
  "kernelspec": {
   "display_name": "Python 3",
   "language": "python",
   "name": "python3"
  },
  "language_info": {
   "codemirror_mode": {
    "name": "ipython",
    "version": 3
   },
   "file_extension": ".py",
   "mimetype": "text/x-python",
   "name": "python",
   "nbconvert_exporter": "python",
   "pygments_lexer": "ipython3",
   "version": "3.5.3"
  }
 },
 "nbformat": 4,
 "nbformat_minor": 1
}
