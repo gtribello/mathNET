{
 "cells": [
  {
   "cell_type": "markdown",
   "metadata": {},
   "source": [
    "# Understanding the probability distribution function\n",
    "\n",
    "You were taught early on in your education about the classical interpretation of probability (See https://www.youtube.com/watch?v=dEzLR-tReEY).  This classical interpretation is the maths that we use when we calculate the probability of getting heads when we toss a coin or the probability of getting two sixes when we roll two fair dice.  In this course (and elsewhere at university) matters have been confused by introducing the Bayesian and Frequentist interprettations of probability. You may quite reasonably ask why these interpretations are necessary given that we have the classical interpretation to fall back on.  The answer to this question is that the classical interpretation does not work in all cases.  In particular, and as discussed in https://www.youtube.com/watch?v=qbbTEZ4NlCI, it breaks down when we have continuous random variables.  To resolve this problem we have introduced the cumulative probability distribution function $F_X(x)$ and stated that this function equals:\n",
    "\n",
    "$$\n",
    "F_X(x) = P(X \\le x)\n",
    "$$\n",
    "\n",
    "In other words, the cumulative probability distribution function measures the probability that the random variable is less than or equal to $x$.  Furthermore, we have required that this function has the following three properties:\n",
    "\n",
    "$$\n",
    "\\lim_{x \\rightarrow -\\infty} F_X(x) = 0 \\qquad \\lim_{x \\rightarrow +\\infty} F_X(x) = 1 \\qquad \\lim_{\\epsilon \\rightarrow 0} F_X(x + \\epsilon) = F_X(x)\n",
    "$$\n",
    "\n",
    "In this video we are going to do some exercises to better get to grips with the implications of this realisation.\n",
    "\n",
    "# Revision\n",
    "\n",
    "In this exercise we are going to use what we have learnt about the law of large numbers once more.  Remember this theorem states:\n",
    "\n",
    "$$\n",
    "\\lim_{n \\rightarrow \\infty} P\\left( \\left|\\frac{S_n}{n} - \\mathbb{E}(X) \\right| < \\epsilon \\right) = 0 \\qquad \\textrm{where} \\qquad S_n = X_1 + X_2 + X_3 + \\dots\n",
    "$$\n",
    "\n",
    "In this expression $X_1$, $X_2$, $X_3$ and so on are all independent and identically distributed random variables.  In other words, these variables are the (random) outcomes from a set of identical experiments that have been performed.  The quantity $S_n$ is, therefore, the sum of all these random variables and in the expression on the left this is divided by the number of experiments to give us the mean.  The symbol $\\mathbb{E}(X)$ is the expectation of the random variable.  For the discrete random variables we have looked at this far the expectation is given by the following summation:\n",
    "\n",
    "$$\n",
    "\\mathbb{E}(X) = \\sum_{i=0}^\\infty x_i f_X(x_i) \n",
    "$$\n",
    "\n",
    "In the previous exercise on the law of large numbers we showed that we could use the law of large numbers to calculate the expectation of a random variable (if it exists).  We do this by calculating $N$ instances of the random variable, adding them all together and dividing by $N$.  This is the essence of the technique we will use here.  The main difference from other exercises is that the business of calculating the random variables is going to be a little more involved.  Regardless, however, we will use all the dynamic plotting functionality we used in the law of large numbers exercise.  The relevant functions are in the cell below so press shift and enter on this cell now."
   ]
  },
  {
   "cell_type": "code",
   "execution_count": 6,
   "metadata": {
    "collapsed": false
   },
   "outputs": [],
   "source": [
    "import math\n",
    "import matplotlib\n",
    "matplotlib.use('TKAgg')\n",
    "import matplotlib.pyplot as plt\n",
    "import matplotlib.animation as anim\n",
    "import random\n",
    "\n",
    "def run(data):\n",
    "    t,y = data\n",
    "    run.xdata.append(t)\n",
    "    run.ydata.append(y)\n",
    "    run.line.set_data(run.xdata, run.ydata )\n",
    "    return run.line,\n",
    "\n",
    "def raw( ngen, myvar ):\n",
    "    t = raw.t\n",
    "    cnt = 0\n",
    "    while cnt < ngen :\n",
    "        cnt += 1        \n",
    "        yield cnt, myvar()\n",
    "        \n",
    "def mean( ngen, myvar ):\n",
    "    t = mean.t\n",
    "    rsum = mean.rsum\n",
    "    cnt = 0\n",
    "    while cnt < ngen :\n",
    "        cnt += 1\n",
    "        t += 1\n",
    "        rsum += myvar()\n",
    "        yield cnt, rsum / t\n",
    "        \n",
    "def dynamicplot( ngen, ymax, operation, myvar ):\n",
    "    operation.t = 0\n",
    "    operation.rsum = 0\n",
    "    run.xdata = [] \n",
    "    run.ydata = []\n",
    "    fig, ax = plt.subplots()\n",
    "    \n",
    "    run.line, = ax.plot([],[],'.')\n",
    "    ax.set_ylim(0,1.5)\n",
    "    ax.set_xlim(0,ngen)\n",
    "    ax.grid\n",
    "    \n",
    "    ani = anim.FuncAnimation(fig, run, operation( ngen, myvar ), interval=1, repeat=False)\n",
    "    plt.show()"
   ]
  },
  {
   "cell_type": "markdown",
   "metadata": {
    "collapsed": true
   },
   "source": [
    "# Random points in and out of circles\n",
    "\n",
    "This first exercise is a classic of simulation.  We are going to write a program to generate a Bernoulli random variable but our Bernoulli random variable is going to be generated using the following tortured route:\n",
    "\n",
    "- We will first generate two uniform random variables $X$ and $Y$.  Each of these two random variables will be a number between 0 and 1.\n",
    "- We will then calculate whether or not the point $(X,Y)$ is within 1 unit of the origin at $(0,0)$.  If it is within 1 unit of the origin our program will return a one, if it not our program will return a 0.\n",
    "\n",
    "Just in case the above instructions are not clear the process is illustrated below:   \n",
    "\n",
    "Once you understand the instructions above write a program to generate this random variable.  In the cell below.  The code that I have put in there will allow you to generate a dynamic plot of 1000 random variables generated using your function.  You must, however, provide the name of the function you have written to generate the random variable as the final argument (mycfunc) to this function."
   ]
  },
  {
   "cell_type": "code",
   "execution_count": 7,
   "metadata": {
    "collapsed": false
   },
   "outputs": [],
   "source": [
    "\n",
    "dynamicplot( 200, 1.0, raw, mycfunc )"
   ]
  },
  {
   "cell_type": "markdown",
   "metadata": {},
   "source": [
    "If you have done the exercise above correctly you should see that your random variables are equal to either 0 or 1.  This is a Bernoulli random variable after all.  Lets now use the law of large number to calculate the expectation of this variable.  Remember we can plot the sum of our $N$ random variables divided by $N$ using the following call to dynamicplot:"
   ]
  },
  {
   "cell_type": "code",
   "execution_count": 9,
   "metadata": {
    "collapsed": true
   },
   "outputs": [],
   "source": [
    "dynamicplot( 200, 1.0, mean, mycfunc )"
   ]
  },
  {
   "cell_type": "markdown",
   "metadata": {},
   "source": [
    "As in the previous box the final argument here (mycfunc) must be set equal to the name of the function that you used to generate you random variables.\n",
    "\n",
    "If everything has worked correctly your sum of random variables should converge to a value of about 0.7854.  <b> What is special about this number?  Hint: What do you get when you multiply it by four?  Write a short paragraph explaining why you get this value for the expectation. </b>  Writing about why you get this value for the expectation is the first part of the written component of this assignment If you are stuck watch this video again https://www.youtube.com/watch?v=qbbTEZ4NlCI."
   ]
  },
  {
   "cell_type": "markdown",
   "metadata": {},
   "source": [
    "# Random lines, circles and triangles\n",
    "\n",
    "In this second exercise we are going to consider an equilateral triangle inside a circle as shown in the figure below:\n",
    "\n",
    "<img src=\"Images/betrand-circle-triangle.png\" width=\"200\">\n",
    "\n",
    "We would like to know the probability with which randomly-generated chords to the circle have a length longer than one of the sides of the equilateral triangle.  \n",
    "\n",
    "Our first step in solving this problem is to calculate the length of one of the sides of the triangle.  We will suppose that the radius of the circle is one.  Determining the length of the sides of the triangle is now a relatively straightforward trignometry problem.  Please use the cell below to write a function that returns the length of one of the sides of the equilateral triangle.  Hint: You can write the value of $\\pi$ as math.pi"
   ]
  },
  {
   "cell_type": "code",
   "execution_count": 23,
   "metadata": {
    "collapsed": false
   },
   "outputs": [],
   "source": [
    "def trig_len():\n",
    "    return math.sqrt( 2 - 2*math.cos(2*math.pi/3.0))"
   ]
  },
  {
   "cell_type": "markdown",
   "metadata": {},
   "source": [
    "We will now write a program that generates a random chord and that returns a 1 if that chord is longer than the side of the triangle and a zero otherwise.  The method we will use to do this is illustrated below:\n",
    "\n",
    "\n",
    "In essence we are going to write a function that takes the following steps.\n",
    "\n",
    "- A point will be selected at random on the circumference of the circle.  To generate a random point on the circumference on the circle we will generate a random number in a particular range (you have to work out what range - I will give you a clue it will not be a random number between 0 and 1!).  This random number can then be converted into x and y coordinates for the point on the circle by exploiting what you know about the unit circle (this is easy trigonometry).\n",
    "- We will now generate a second random point on the circumference of the circle using the method that I have just described.\n",
    "- We now calculate the distance between the two random points we have generated and compare this with the length of the side of the triangle.  If this line has a length longer than the side of the triangle our function will return one.  If it is shorter we will return 0.  \n",
    "\n",
    "If you have understood the instructions above use the cell below to write your function.  I have put a call to dynamicplot at the end.  As always you will need to set the final argument (rand_chord) so that it is equal to the name of your function to generate the random variable.  The call to dynamic plot here is calculating the mean so if you have done everything correctly you graph should converge to a value of around $\\frac{1}{3}$.  "
   ]
  },
  {
   "cell_type": "code",
   "execution_count": 19,
   "metadata": {
    "collapsed": true
   },
   "outputs": [],
   "source": [
    "def rand_chord():\n",
    "    p1 = random.uniform(0,2*3.14)\n",
    "    x1,y1 = math.cos(p1),math.sin(p1)\n",
    "    p2 = random.uniform(0,2*3.14)\n",
    "    x2,y2 = math.cos(p2),math.sin(p2)\n",
    "    llen = math.sqrt( (x1-x2)*(x1-x2) + (y1-y2)*(y1-y2) )\n",
    "    if( llen<trig_len() ) :\n",
    "        return 0.0 \n",
    "    else :\n",
    "        return 1.0\n",
    "    \n",
    "dynamicplot( 200, 1.0, mean, rand_chord )"
   ]
  },
  {
   "cell_type": "markdown",
   "metadata": {},
   "source": [
    "When we generate our random variables using the method described above we find that the probability that a randomly selected chord has a length longer than the side of triangle is $\\frac{1}{3}$.  There are multiple different ways of calculating random chords, however.  Hence, in order to double check that everything is valid we are going to generate our chords using a slightly different route.  The method here is illustrated below:\n",
    "\n",
    "Now our function is going to take the following steps:\n",
    "\n",
    "- We notionally begin by selecting a random point on the circumference on the circle.  In practise, however, we will not need to do this in our program.  \n",
    "- We now draw a radius that connects the center of the circle to our randomly selected point on the circumference.  We then pick a random point on this radius.  At this stage remember that we have decided that the radius of the circle is 1.  This step thus ammounts to generating a random number between 0 and 1.\n",
    "- We now draw a chord through our randomly selected point on the radius.  As shown in the diagram above this chord is drawn perpendicular to the radius we generated, which makes it easy to calculate its length (this is just a trigonometry problem again).\n",
    "- Now that we have the length of the chord we can work out if it is longer than the side of the triangle.  If it is longer then our function should return a one.  If it is shorter our function should return a zero.\n",
    "\n",
    "If you have understood the instructions above use the cell below to write your function. I have put a call to dynamicplot at the end. As always you will need to set the final argument (rand_chord2) so that it is equal to the name of your function to generate the random variable. The call to dynamic plot here is calculating the mean so if you have done everything correctly you graph should converge to a value of around $\\frac{1}{2}$."
   ]
  },
  {
   "cell_type": "code",
   "execution_count": 26,
   "metadata": {
    "collapsed": true
   },
   "outputs": [],
   "source": [
    "def rand_chord2():\n",
    "    pp = random.uniform(0,1)\n",
    "    llen = 2*math.sqrt( 1 - pp*pp )\n",
    "    if( llen<trig_len() ) :\n",
    "        return 0.0\n",
    "    else :\n",
    "        return 1.0\n",
    "    \n",
    "dynamicplot( 200, 1.0, mean, rand_chord2 )"
   ]
  },
  {
   "cell_type": "markdown",
   "metadata": {},
   "source": [
    "Bollocks!  It would seem that the average values we get if we generate our random chords using  the first method is different to the average value we get with the second method.  To be clear this is the correct result even though it seems counterintuitive.  \n",
    "\n",
    "The problem we have looked at above is a famous example in probability theory known as Bertrands paradox, see https://en.wikipedia.org/wiki/Bertrand_paradox_(probability).  As you have probably realised from that wikipedia article \"solving\" this problem involves some pretty deep mathematical thinking, which is well beyond the scope of this module.  I like to show this problem, however, as it shows how our simple intuitive ideas about classical probability break down.  It thus provides a gentle introduction into why the Bayesian and Frequentist interpretations of probability are required.\n",
    "\n"
   ]
  }
 ],
 "metadata": {
  "kernelspec": {
   "display_name": "Python 3",
   "language": "python",
   "name": "python3"
  },
  "language_info": {
   "codemirror_mode": {
    "name": "ipython",
    "version": 3
   },
   "file_extension": ".py",
   "mimetype": "text/x-python",
   "name": "python",
   "nbconvert_exporter": "python",
   "pygments_lexer": "ipython3",
   "version": "3.5.1"
  }
 },
 "nbformat": 4,
 "nbformat_minor": 0
}
