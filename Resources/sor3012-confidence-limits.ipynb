{
 "cells": [
  {
   "cell_type": "markdown",
   "metadata": {},
   "source": [
    "# Confidence limits\n",
    "\n",
    "In the exercise on the constructing histograms we found that the probability distribution function for the sum of a large number of (identically distributed) uniform random variables was a normal distribution.  I then told you that this result holds more generally and that it is known as the central limit theorem.  To be clear this theorem states:\n",
    "\n",
    "$$\n",
    "\\lim_{n \\rightarrow \\infty} P\\left(\\frac{\\frac{S_n}{n} - \\mu}{ \\sigma/\\sqrt{n} } \\le z \\right) = \\Phi(z)\n",
    "$$\n",
    "\n",
    "where $S_n = X_1 + X_2 + X_3 + \\dots + X_n$ and where $X_1, X_2, X_3, \\dots, X_n$ are all idependent and identically distributed random variables.  $\\mu$ and $\\sigma$, meanwhile, are the expectation and variance of the random variable, $X_1$.  If either of these quantities is infinite then the central limit theorem does not hold.  Last but not least $\\Phi(z)$ is the probability distribution function for a normal random variable with an expectation of zero and a variance of 1.0.  This material is covered in more detail in the following video: https://www.youtube.com/watch?v=-XJe3s_BCKw\n",
    "\n",
    "The aim of this exercise is to investigate the implications of the central limit thoerem by looking at the issue of confidence limits and error bars.  As always we begin though with some code that I have written for you.  Press shift and enter on the cell below now\n",
    "\n",
    "\n"
   ]
  },
  {
   "cell_type": "code",
   "execution_count": null,
   "metadata": {
    "collapsed": true
   },
   "outputs": [],
   "source": [
    "from scipy.stats import norm\n",
    "import math\n",
    "%matplotlib notebook\n",
    "import matplotlib\n",
    "import matplotlib.pyplot as plt\n",
    "import matplotlib.animation as anim\n",
    "from matplotlib import rc\n",
    "from IPython.display import HTML\n",
    "import random\n",
    "rc('animation', html='none')\n",
    "\n",
    "class plotobj(object):\n",
    "    def __init__(self,ngen,expectation,climit):\n",
    "        self.ngen = ngen\n",
    "        self.expectation = expectation\n",
    "        self.climit = climit\n",
    "        self.fig = plt.figure()\n",
    "        self.ymin = expectation - 2*climit\n",
    "        self.ymax = expectation + 2*climit\n",
    "        self.ax = plt.axes(xlim=(0, self.ngen),ylim=(self.ymin,self.ymax))\n",
    "        x1data,y1data,y2data,y3data = [], [], [], []\n",
    "        for i in range(0,self.ngen):\n",
    "            x1data.append(i)\n",
    "            y1data.append(self.expectation)\n",
    "            y2data.append(self.expectation+self.climit)\n",
    "            y3data.append(self.expectation-self.climit)\n",
    "        \n",
    "        line1 = self.ax.plot(x1data,y1data,'-')\n",
    "        line2 = self.ax.plot(x1data,y2data,'-')\n",
    "        line3 = self.ax.plot(x1data,y3data,'-')\n",
    "        \n",
    "    def setup(self):\n",
    "        self.xdata=[]\n",
    "        self.ydata=[]\n",
    "        self.line, = self.ax.plot([],[],'.')\n",
    "        return self.line\n",
    "    \n",
    "    def run(self,data):\n",
    "        t,y = data\n",
    "        if y>self.ymax :\n",
    "            self.ymax = y\n",
    "        if y<self.ymin :\n",
    "            self.ymin =y\n",
    "        self.ax.set_ylim(self.ymin,self.ymax)\n",
    "        self.xdata.append(t)\n",
    "        self.ydata.append(y)\n",
    "        self.line.set_data(self.xdata, self.ydata)\n",
    "        return self.line\n",
    "    \n",
    "def raw( ngen, myvar, p1 ):\n",
    "    cnt = 0\n",
    "    while cnt < ngen :\n",
    "        cnt += 1\n",
    "        yield cnt, myvar(p1)\n",
    "    \n",
    "def dynamicplot( ngen, myvar, p1, expectation, climit ):\n",
    "    myplot = plotobj( ngen, expectation, climit )\n",
    "    return anim.FuncAnimation(fig=myplot.fig, func=myplot.run, frames=raw( ngen, myvar, p1 ), interval=10, \n",
    "                              init_func=myplot.setup, blit=False, repeat=False)"
   ]
  },
  {
   "cell_type": "markdown",
   "metadata": {},
   "source": [
    "# Introduction\n",
    "\n",
    "You are hopefully aware that when we perform scientific investigations we perform our experiments multiple times in order to confirm our results.  This is not the sole reason for repeating experiments, however.  Whenever we perform an experiment we assume that the result, $Y$, is a random variable with some underlying probability distribution function.  That is to say that we assume that the outcome of our experiment is random.  The aim of the experiment is thus not to get the value of $Y$.  Instead we want get some information about the probability distribution function that underlies the random variable, $Y$, that underlies our experiment.  Now, as we have seen in all the exercises on the law of large numbers, we can get information on this distribution function by generating multiple random variables, adding them together and dividing by the total number of random variables we have generated.  This procedure gives us an estimate of the expectation.  Furthermore, I have just described how the central limit theorem gives us information on the probability distribution function for this estimate. \n",
    "\n",
    "The key word in the above is estimate.  The point is that the \"expectation\" we get from performing an experiment multiple times is not the true expectation for a random variable as the law of large numbers tells us that our esimtate only converges to the true expectation once we have performed an infinite number of experiments.  What we thus need to do is get an estimate of how close to the true expectation our esimtate lies.  The central limit theorem and the business of confidence limits that is described in the video above provides us with a method for doing just this.  Interpretting what these confidence limits represent is (I think) rather difficult though so in this exercise we are going to do a short exercise that I hope will help you to understand confidence limits better.\n",
    "\n",
    "To begin this exercise I want you to write yet another random number generated in the cell below.  This random number generator should take an integer, $N$, as input and should return the random variable:\n",
    "\n",
    "$$\n",
    "Y = \\frac{1}{N} \\sum_{i=1}^N X_i \n",
    "$$\n",
    "\n",
    "where the $X_i$ is one of $N$ uniform random variables that lie between 0 and 1."
   ]
  },
  {
   "cell_type": "code",
   "execution_count": null,
   "metadata": {
    "collapsed": false
   },
   "outputs": [],
   "source": [
    "# This function needs to be modified because at\n",
    "# the moment it only returns 1 which is not very random\n",
    "# Do not change the name of this function.\n",
    "def randno(N):\n",
    "    return 1"
   ]
  },
  {
   "cell_type": "markdown",
   "metadata": {},
   "source": [
    "We know that the value of the random variable $Y$ should converge to 0.5 as it is a sum of $N$ identically distributed random variables.  Furthermore, we can use the equation for the error bars from the video https://www.youtube.com/watch?v=-XJe3s_BCKw to get an estimate for the confidence limit.  In the cell below write a function that takes the number of random variables generated, $N$, and the level of confidence required as input and which then uses the central limt theorem to calculate and return an estimate for the size of the error bar.  Notice you can get the inverse normal function, $\\Psi^{-1}(z)$, using the function:\n",
    "\n",
    "norm.ppf(z)"
   ]
  },
  {
   "cell_type": "code",
   "execution_count": null,
   "metadata": {
    "collapsed": true
   },
   "outputs": [],
   "source": [
    "# This function needs to be modified so that it \n",
    "# returns the lim % confidence limit when N experiments\n",
    "# have been performed.  Do not change the name of this function\n",
    "def confidencelimit(lim,N):\n",
    "    return 1.0"
   ]
  },
  {
   "cell_type": "markdown",
   "metadata": {},
   "source": [
    "Now that we have these two functions I have, in the cell below written a routine that will generate and plot 20 instances of your random variable $Y$ with $N=20$ together with lines that show the 90 % confidence limit around the true expectation (0.5).  Press shift and enter on the cell below and then answer the questions below the cell in your notes on this exercise."
   ]
  },
  {
   "cell_type": "code",
   "execution_count": null,
   "metadata": {
    "collapsed": false
   },
   "outputs": [],
   "source": [
    "Nsets = 20     # Number of instances of random variable Y to generate \n",
    "N = 20         # Number of uniform random variables that are added together to get Y\n",
    "expectation = 0.5 # The expectation for a uniform random variable that lies between 0 and 1\n",
    "climit = 0.9      # Confidence limit we are interested in\n",
    "dynamicplot( Nsets, randno, N, expectation, confidencelimit(climit,N) )"
   ]
  },
  {
   "cell_type": "markdown",
   "metadata": {},
   "source": [
    "- Are all the value of $Y$ that you obtain within the error bars?  If they are all within the error bars run the cell above again until you find that some of the estimates are outside the confidence limits.\n",
    "- Explain, making reference to the central limit theorem, why some of the values of $Y$ that you obtain are outside the error bars.\n",
    "- How many of our 20 estimates of $Y$ would we expect to lie within the 90 % confidence limit.\n",
    "- What happens when different values are used for the confidence limit and when different numbers of experiments are performed.  Does the number of $Y$ values in the 90 % confidence limit increase/decrease when $N$ is increased to 50?\n",
    "- What happens to the size of the error bars as $N$ is increased."
   ]
  },
  {
   "cell_type": "code",
   "execution_count": null,
   "metadata": {
    "collapsed": true
   },
   "outputs": [],
   "source": []
  }
 ],
 "metadata": {
  "kernelspec": {
   "display_name": "Python 3",
   "language": "python",
   "name": "python3"
  },
  "language_info": {
   "codemirror_mode": {
    "name": "ipython",
    "version": 3
   },
   "file_extension": ".py",
   "mimetype": "text/x-python",
   "name": "python",
   "nbconvert_exporter": "python",
   "pygments_lexer": "ipython3",
   "version": "3.5.1"
  }
 },
 "nbformat": 4,
 "nbformat_minor": 0
}
