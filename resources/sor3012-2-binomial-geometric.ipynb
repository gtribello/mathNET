{
 "cells": [
  {
   "cell_type": "markdown",
   "metadata": {},
   "source": [
    "# Generating binomial and geometric random variables\n",
    "\n",
    "In this exercise we are going to learn about the binomial and geometric random variables by writing programs that generate random numbers from these distributions.  If you go online you will find that other kind people have written intrinsic functions for python that generate these kinds of random variables.  <b>Please do not use these functions as it defeats the point of the exercise</b>, which is to code these things yourself and to understand how these variables can be constructed by performing a set bernoulli trials.  <b>Read the instructions provided carefully and if you don't understand ask.</b>\n",
    "\n",
    "Right before we start on the exercise we first need to load a few things so press shift enter on the cell below:"
   ]
  },
  {
   "cell_type": "code",
   "execution_count": null,
   "metadata": {
    "collapsed": true
   },
   "outputs": [],
   "source": [
    "import math\n",
    "import matplotlib.pyplot as plt\n",
    "import random"
   ]
  },
  {
   "cell_type": "markdown",
   "metadata": {},
   "source": [
    "We also need to learn one more bit of python programming so without further ado.\n",
    "\n",
    "# Programming loops\n",
    "\n",
    "A loop in a program is a block of code that is to be repeated multiple times.  We can code loops in python as shown below:"
   ]
  },
  {
   "cell_type": "code",
   "execution_count": null,
   "metadata": {
    "collapsed": false
   },
   "outputs": [],
   "source": [
    "for i in range(0,10):\n",
    "    print(i)"
   ]
  },
  {
   "cell_type": "markdown",
   "metadata": {},
   "source": [
    "This piece of computer code instructs the computer to do the action inside the loop (the indented bit) multiple times.  In this case the computer is told to do the indented bit for all the values of i that are greater than or equal to 0 and less than 10.  In other words, the code inside the loop must be executed for all values of i that are between 0 and 9.  You will notice that the part inside the loop tells the computer to print the value of i and it should thus come as no surprise to find that the numbers 0 - 9 are output.\n",
    "\n",
    "We can do more than one thing in the loop by indenting more than one line.  So for example the code below outputs a number and the square of the numbers 0 to 2."
   ]
  },
  {
   "cell_type": "code",
   "execution_count": null,
   "metadata": {
    "collapsed": false
   },
   "outputs": [],
   "source": [
    "for i in range(0,3):\n",
    "    print(i)\n",
    "    print(i*i)"
   ]
  },
  {
   "cell_type": "markdown",
   "metadata": {},
   "source": [
    "Use the cell below to write out a piece of code that calculates the sum of the squares of all the numbers that are greater than zero and less than 100."
   ]
  },
  {
   "cell_type": "code",
   "execution_count": null,
   "metadata": {
    "collapsed": true
   },
   "outputs": [],
   "source": []
  },
  {
   "cell_type": "markdown",
   "metadata": {},
   "source": [
    "We can also create more loops with more complicated exit conditions by exploiting the while command.  As an example the following code outputs all the terms in the fibonacci series (https://en.wikipedia.org/wiki/Fibonacci_number) that are less than 150."
   ]
  },
  {
   "cell_type": "code",
   "execution_count": null,
   "metadata": {
    "collapsed": false
   },
   "outputs": [],
   "source": [
    "number1=0\n",
    "number2=1\n",
    "print number1,\n",
    "while number2<150:\n",
    "    tmp = number2\n",
    "    number2 = number1 + number2\n",
    "    number1 = tmp\n",
    "    print(number1, end=\" \") "
   ]
  },
  {
   "cell_type": "markdown",
   "metadata": {},
   "source": [
    "Here the block indented block of code after the while statement will repeat until the variable number 2 is greater than 150.  The end=\" \" changes the behavior of the print() function.  In previous exercises you will have noticed that every new print command prints information on a new line.  So the program:\n",
    "\n",
    "print(\"this is the first line\")\n",
    "print(\"this is the second line\")\n",
    "\n",
    "will output:\n",
    "\n",
    "this is the first line\n",
    "this is the second line\n",
    "\n",
    "By changing the program to:\n",
    "\n",
    "print(\"this is the first line\", end=\" \")\n",
    "print(\"this is the second line\")\n",
    "\n",
    "We change the output to:\n",
    "\n",
    "this is the first line this is the second line\n",
    "\n",
    "as the terminating character to print is no longer the (invisible) new line character.  It is instead the (equally invisible) blank space character."
   ]
  },
  {
   "cell_type": "markdown",
   "metadata": {},
   "source": [
    "Use the cell below to write a piece of code that writes out all the squares of the fibbonacci numbers that are less than 200."
   ]
  },
  {
   "cell_type": "code",
   "execution_count": null,
   "metadata": {
    "collapsed": true
   },
   "outputs": [],
   "source": []
  },
  {
   "cell_type": "markdown",
   "metadata": {},
   "source": [
    "# The binomial random variable"
   ]
  },
  {
   "cell_type": "markdown",
   "metadata": {},
   "source": [
    "Before we look at the binomial random variable we first need to revise somethings that we did in the previous exercise.  At the end of that exercise we wrote a function that generates Bernoulli random variables.  We are going to need that function for the exercises that follows so copy and paste it into the cell below"
   ]
  },
  {
   "cell_type": "code",
   "execution_count": null,
   "metadata": {
    "collapsed": true
   },
   "outputs": [],
   "source": []
  },
  {
   "cell_type": "markdown",
   "metadata": {},
   "source": [
    "The binomial random variable has the following probability mass function:\n",
    "\n",
    "$$\n",
    "f_X(x) = \\binom{n}{x} p^x (1-p)^{n-x} \\qquad \\textrm{for} \\quad x=0,1,2,\\dots,n\n",
    "$$\n",
    "\n",
    "As discussed in the video () binomial random variables are used to model the process of performing $n$ bernoulli trials.  The probability $P(X=3)=f_X(3)$ gives us the probability that three out of the $n$ trials that we will eventually perform will be sucessful.  Writing a function to generate numbers from a binomial distribution should thus simply be a matter of generating multiple bernoulli random variables using the function that you copied from the first exercise.  With this in mind use the cell below to write a python function that generates random numbers from the binomial distribution.  This function should take as its argument the parameter $p$ in the above expression and the number of trials $n$.  <b>Remember not to use an intrinsic function or the solutions that you find online</b>.  There should be enough information in this box and in the video for you to solve this problem.  <b>If you are confused please ask. Once you are done ask a  demonstrator to look over what you have done here before moving on with the rest of the exercise.</b>   "
   ]
  },
  {
   "cell_type": "code",
   "execution_count": null,
   "metadata": {
    "collapsed": true
   },
   "outputs": [],
   "source": []
  },
  {
   "cell_type": "markdown",
   "metadata": {},
   "source": [
    "# The geometric random variable\n",
    "\n",
    "The geometric random variable has the following probability mass function:\n",
    "\n",
    "$$\n",
    "f_X(x) = (1-p)^{x-1} p \\qquad \\textrm{for} \\qquad x=1,2,\\dots\n",
    "$$\n",
    "\n",
    "As discussed in the video () the geometric random variable is used to describe experiments in which you perform Bernoulli trials until you get a sucess.  The geometric random variable measures the number of trials you have to perform before you get a sucess.  We should thus be able to write a function to generate random variables from a geometric distribution using the function we wrote to generate bernoulli random variables together with what we have learnt about while loops in this exercise.  Try to do this in the cell below.  As always don't look for quick solutions online.  Think about the problem, ask for help if you are struggling and once you are done ask a demonstrator to look over what you have done before moving on."
   ]
  },
  {
   "cell_type": "code",
   "execution_count": null,
   "metadata": {
    "collapsed": true
   },
   "outputs": [],
   "source": []
  },
  {
   "cell_type": "markdown",
   "metadata": {
    "collapsed": true
   },
   "source": [
    "# Final tasks\n",
    "\n",
    "Now that you have finished these tasks take a moment to write a one page summary describing what you have learnt from performing these exercises.  In this summary you should describe how functions to generate binomial and geometric random variables can be constructed by writing generate multiple Bernoulli random variables."
   ]
  },
  {
   "cell_type": "code",
   "execution_count": null,
   "metadata": {
    "collapsed": true
   },
   "outputs": [],
   "source": []
  }
 ],
 "metadata": {
  "kernelspec": {
   "display_name": "Python 3",
   "language": "python",
   "name": "python3"
  },
  "language_info": {
   "codemirror_mode": {
    "name": "ipython",
    "version": 3
   },
   "file_extension": ".py",
   "mimetype": "text/x-python",
   "name": "python",
   "nbconvert_exporter": "python",
   "pygments_lexer": "ipython3",
   "version": "3.5.1"
  }
 },
 "nbformat": 4,
 "nbformat_minor": 0
}
