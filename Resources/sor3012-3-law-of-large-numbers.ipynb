{
 "cells": [
  {
   "cell_type": "markdown",
   "metadata": {},
   "source": [
    "# The law of large numbers\n",
    "\n",
    "In this exercise we are going to learn why probability models and random variables are useful.  This all hinges on a theorem known as the law of large numbers, which states:\n",
    "\n",
    "$$\n",
    "\\lim_{n \\rightarrow \\infty} P\\left( \\left|\\frac{S_n}{n} - \\mathbb{E}(X) \\right| < \\epsilon \\right) = 0 \\qquad \\textrm{where} \\qquad S_n = X_1 + X_2 + X_3 + \\dots\n",
    "$$\n",
    "\n",
    "In this expression $X_1$, $X_2$, $X_3$ and so on are all independent and identically distributed random variables.  In other words, these variables are the (random) outcomes from a set of identical experiments that have been performed.  The quantity $S_n$ is, therefore, the sum of all these random variables and in the expression on the left this is divided by the number of experiments to give us the mean.  The symbol $\\mathbb{E}(X)$ is the expectation of the random variable.  For the discrete random variables we have looked at this far the expectation is given by the following summation:\n",
    "\n",
    "$$\n",
    "\\mathbb{E}(X) = \\sum_{i=0}^\\infty x_i f_X(x_i) \n",
    "$$\n",
    "\n",
    "as discussed in this video (https://www.youtube.com/watch?v=4l6N4mD1n6I).  This is a therefore a quantity we can calculate if we are given the probability mass function.  \n",
    "\n",
    "To understand the theorem the last symbol that needs to be defined is the $\\epsilon$, which is just a small number.  As explained in this video (https://www.youtube.com/watch?v=wCdcPSkqgUk) when all this is taken together the theorem is simply saying that in the limit as you do an infinite number of identical experiments the combined outcome is certain.  There is no randomness or uncertainty in the combined outcome of an infinite number of experiments.  Now in my view the subtleties in this statement are very difficult to understand and so in this exercise we are going to try to do some exercises to make them clearer."
   ]
  },
  {
   "cell_type": "markdown",
   "metadata": {},
   "source": [
    "# Revision\n",
    "\n",
    "Before we get started on todays exercises we need to first load some functions that I have written for you in the box below.  So press shift and enter on the cell below."
   ]
  },
  {
   "cell_type": "code",
   "execution_count": null,
   "metadata": {
    "collapsed": false
   },
   "outputs": [],
   "source": [
    "import math\n",
    "%matplotlib notebook\n",
    "import matplotlib\n",
    "import matplotlib.pyplot as plt\n",
    "import matplotlib.animation as anim\n",
    "from matplotlib import rc\n",
    "from IPython.display import HTML\n",
    "import random\n",
    "rc('animation', html='none')\n",
    "\n",
    "class plotobj(object) :\n",
    "    def __init__(self, ngen, ymax, expect ) :\n",
    "        self.t=0\n",
    "        self.rsum=0\n",
    "        self.ngen=ngen\n",
    "        self.ymax=ymax\n",
    "        self.expect=expect\n",
    "        self.fig = plt.figure()\n",
    "        self.ax = plt.axes(xlim=(0, self.ngen), ylim=(0, self.ymax))\n",
    "    \n",
    "    def setup(self):\n",
    "        self.xdata=[]\n",
    "        self.ydata=[]\n",
    "        \n",
    "        x1data,y1data = [], []\n",
    "        for i in range(0,self.ngen):\n",
    "            x1data.append(i)\n",
    "            y1data.append(self.expect)\n",
    "        line1 = self.ax.plot(x1data,y1data,'-')\n",
    "        \n",
    "        self.line, = self.ax.plot([],[],'.')\n",
    "        return self.line,\n",
    "    \n",
    "    def run(self,data):\n",
    "        t,y = data\n",
    "        self.xdata.append(t)\n",
    "        self.ydata.append(y)\n",
    "        self.line.set_data(self.xdata, self.ydata )\n",
    "        return self.line,\n",
    "    \n",
    "def raw( ngen, myvar, p1, p2 ):\n",
    "    cnt = 0\n",
    "    while cnt < ngen :\n",
    "        cnt += 1\n",
    "        if( p2>0):\n",
    "            yield cnt, myvar(p1,p2)\n",
    "        else:\n",
    "            yield cnt, myvar(p1)\n",
    "        \n",
    "def mean( ngen, myvar, p1, p2 ):\n",
    "    rsum = mean.rsum\n",
    "    cnt = 0\n",
    "    while cnt < ngen :\n",
    "        cnt += 1\n",
    "        if( p2>0):\n",
    "            rsum += myvar(p1,p2)\n",
    "        else:\n",
    "            rsum += myvar(p1)\n",
    "        yield cnt, rsum / cnt\n",
    "        \n",
    "def dynamicplot( ngen, ymax, operation, myvar, expectation, p1, p2=0 ):\n",
    "    myplot = plotobj( ngen, ymax, expectation )\n",
    "    operation.rsum=0\n",
    "    return anim.FuncAnimation(fig=myplot.fig, func=myplot.run, frames=operation( ngen, myvar, p1, p2 ), \n",
    "                                init_func=myplot.setup, interval=10, blit=False, repeat=False)"
   ]
  },
  {
   "cell_type": "markdown",
   "metadata": {},
   "source": [
    "In addition, we are going to need the functions that we wrote in the last exercise that we used to generate random variables from the Bernoulli, Binomial and Geometric random variables.  Open that last exercise and copy these functions into the cell below so that we can use them in the exercises that follow."
   ]
  },
  {
   "cell_type": "code",
   "execution_count": null,
   "metadata": {
    "collapsed": true
   },
   "outputs": [],
   "source": []
  },
  {
   "cell_type": "markdown",
   "metadata": {},
   "source": [
    "# Graphing random variables\n",
    "\n",
    "The functions that I wrote and gave to you above allow you to generate a large number of random variables and plot them on a graph.  The following box shows how these work.  If you press shift and enter on the cell below a new window will load up and a graph showing the values 200 uniformly distributed random variables will appear."
   ]
  },
  {
   "cell_type": "code",
   "execution_count": null,
   "metadata": {
    "collapsed": false
   },
   "outputs": [],
   "source": [
    "dynamicplot( 150, 1.0, raw, random.uniform, 0, 0, 1)"
   ]
  },
  {
   "cell_type": "markdown",
   "metadata": {},
   "source": [
    "In the new window that was created when the above cell was executed a graph should appear (it should be behind this window somewhere).  The $y$-coordinate of each of the green dots on this graph represents the value taken by one of the many random variables that was generated by the above command.  If we call each of these random variables $X_1$, $X_2$, $\\dots$ then the $x$-axis is showing the number in the subscript. What is clear from the figure is that there is no clear pattern in the points generated. In other words, if I were trying to predict the value of the $(n+1)$th random variables the previous $n$ random variables that had been generated would not be particularly useful. This makes a lot of sense given that all the numbers generated are uniformly distributed random variables.  \n",
    "\n",
    "In a moment we are going to use this function to look at the random numbers generated from the Bernoulli, Binomial and Geometric random distributions.  Before we do so, however, we need to understand what each of the arguments to the function are:\n",
    "\n",
    "- The first argument gives the total number of random variables that you would like to generate.  Here we are generating 200 random variables. In this case all these random variables are taken from a uniform distribution.\n",
    "- The second argument gives the maximum value the random variable can take.  This variable is used to set the length of the $y$-axis in the graph.  As we are generating random variables between 0 and 1 a value of 1 is sufficient in this case.\n",
    "- The third argument tells the function to plot the values of the random variables directly.  As we will see in the later parts of this exercise we can use the dynamicplot function to do a variety of different things.  This argument controls which thing we are doing.\n",
    "- The fourth argument is the function that is going to calculate the random variable we desire.\n",
    "- For the time being the fifth argument can always be set equal to zero.  We will come back to this later.\n",
    "- Finally the six and seventh arguments are the arguments that must be passed when the function that calculates the random variable whenever it is executed.  If you remember in all the previous exercises we have always called the function uniform.random using the command uniform.random(0,1).  These arguments (or parameters) must be passed separately here.\n",
    "\n",
    "The two parameters that are passed to the function uniform.random give the range of values that the random variable can take.  Hence, when we write uniform.random(0,1) we are asking for random numbers that fall between 0 and 1.  With this in mind <b> modify the above call to dynamic plot so that numbers between 0 and 20 are generated </b>.  Hint: you should only need to make two changes to the above function call.\n",
    "\n",
    "Lets now try a new exercise.  Copy the function you wrote that calculates Bernoulli random variables into the box below and then <b> write a call to dynamic plot that uses your function for generating Bernoulli random variables </b> instead of uniform.random.  Notice that your Bernoulli random variable function should only take one argument, $p$.  You should thus call dynamicplot with only six arguments.  <b>Before you press shift and enter to execute the code think about what you would expect the final plot to look like</b> also think carefully about the length of the $y$-axis. "
   ]
  },
  {
   "cell_type": "code",
   "execution_count": null,
   "metadata": {
    "collapsed": true
   },
   "outputs": [],
   "source": []
  },
  {
   "cell_type": "markdown",
   "metadata": {},
   "source": [
    "Now write a call to dynamicplot that uses your function for generating Binomial random variables.  What values would you expect that this random variable can take?  How long does the $y$-axis need to be?"
   ]
  },
  {
   "cell_type": "code",
   "execution_count": null,
   "metadata": {
    "collapsed": true
   },
   "outputs": [],
   "source": []
  },
  {
   "cell_type": "markdown",
   "metadata": {},
   "source": [
    "Lastly, write a call to dynamicplot that uses your function for generating Geometric random variables.  What values is this random variable allowed to take?  If you don't set the $p$  parameter of this random variable too small a $y$ axis with a length of around 20 should be adequate. "
   ]
  },
  {
   "cell_type": "code",
   "execution_count": null,
   "metadata": {
    "collapsed": true
   },
   "outputs": [],
   "source": []
  },
  {
   "cell_type": "markdown",
   "metadata": {},
   "source": [
    "# Understanding the law of large numbers\n",
    "\n",
    "We are now going to use the dynamicplot function from the last exercise to better understand the law of large numbers.  In this exercise we are going to plot the mean of all the independent random variables that we calculate rather than the values of the random variables themselves.  In other words, we are going to plot:\n",
    "\n",
    "$$\n",
    "y = \\frac{S_n}{n} \\qquad \\textrm{where} \\qquad S_n = X_1 + X_2 + \\dots \n",
    "$$\n",
    "\n",
    "against the number of experiments $n$ that have been performed.  The code to do for this for the uniform random variable is in the cell below:"
   ]
  },
  {
   "cell_type": "code",
   "execution_count": null,
   "metadata": {
    "collapsed": false
   },
   "outputs": [],
   "source": [
    "dynamicplot( 200, 1.0, mean, random.uniform, 0, 0, 1 )"
   ]
  },
  {
   "cell_type": "markdown",
   "metadata": {},
   "source": [
    "The result we are getting here is very different to the result that was obtained when we just plotted the random variables.  The mean of the random variables appears to be converging to a particular value.  In fact $\\frac{S_n}{n}$ appears to be settling down to a value of 0.5.  One of the reasons for this behaviour is connected to the law of large numbers, which if you remember told us that:\n",
    "\n",
    "$$\n",
    "\\lim_{n \\rightarrow \\infty} P\\left( \\left|\\frac{S_n}{n} - \\mathbb{E}(X) \\right| < \\epsilon \\right) = 0 \\qquad \\textrm{where} \\qquad S_n = X_1 + X_2 + X_3 + \\dots\n",
    "$$\n",
    "\n",
    "In other words, as we take sums of progressively larger and larger numbers of random variables we get progressively closer and closer to a value of $n$ times the expectation.  Consequently, when we calculate $\\frac{S_n}{n}$ we find that this quantity is close to $\\mathbb{E}(X)$ - the expectation of the random variable.\n",
    "\n",
    "To convince yourself that $\\frac{S_n}{n}$ is <b> converging </b> on the expectation run the dynamicplot command given in the cell below:"
   ]
  },
  {
   "cell_type": "code",
   "execution_count": null,
   "metadata": {
    "collapsed": false
   },
   "outputs": [],
   "source": [
    "dynamicplot( 200, 1.0, mean, random.uniform, 0.5, 0, 1 )"
   ]
  },
  {
   "cell_type": "markdown",
   "metadata": {},
   "source": [
    "In drawing this plot we have set the fifth argument of the function above equal to 0.5.  This argument tells dynamicplot to draw a blue horizontal line with at a $y$ value equal to the argument.  (If you look in all the previous examples above this fifth argument is set equal to 0 and the resulting horizontal line is thus obscured by the $x$-axis.)  In this example, however, we have set this quantity equal to 0.5, the expectation for our uniformly distributed random variable.  When we look at the graph we thus see clearly that our estimate of $\\frac{S_n}{n}$ converges onto this line when $n$ gets large.   \n",
    "\n",
    "# Exercises\n",
    "\n",
    "Use the cell below and the dynamicplot function defined above to plot $\\frac{S_n}{n}$ as a function of $n$ for a set of independent and identically distributed, Bernoulli random variables.  What should $\\frac{S_n}{n}$ converge to in this case? "
   ]
  },
  {
   "cell_type": "code",
   "execution_count": null,
   "metadata": {
    "collapsed": true
   },
   "outputs": [],
   "source": []
  },
  {
   "cell_type": "markdown",
   "metadata": {},
   "source": [
    "Use the cell below and the dynamicplot function defined above to plot $\\frac{S_n}{n}$ as a function of $n$ for a set of independent and identically distributed binomial random variables.   What should $\\frac{S_n}{n}$ converge to in this case?"
   ]
  },
  {
   "cell_type": "code",
   "execution_count": null,
   "metadata": {
    "collapsed": true
   },
   "outputs": [],
   "source": []
  },
  {
   "cell_type": "markdown",
   "metadata": {},
   "source": [
    "Use the cell below and the dynamicplot function defined above to plot $\\frac{S_n}{n}$ as a function of $n$ for a set of independent and identically distributed geometric random variables.   What should $\\frac{S_n}{n}$ converge to in this case?"
   ]
  },
  {
   "cell_type": "code",
   "execution_count": null,
   "metadata": {
    "collapsed": true
   },
   "outputs": [],
   "source": []
  },
  {
   "cell_type": "code",
   "execution_count": null,
   "metadata": {
    "collapsed": true
   },
   "outputs": [],
   "source": []
  },
  {
   "cell_type": "markdown",
   "metadata": {},
   "source": [
    "Use the cell above to define a function that generates a geometric random variable, $X$, with parameter $p=0.5$ and which then returns the following function of this quantity:\n",
    "\n",
    "$$\n",
    "g(X) = 2^X\n",
    "$$\n",
    "\n",
    "Obviously, because $X$ is random, $g(X)$ is also random.  Having defined your function use it in tandem with the dynamicplot function given above to show the  values the individual random variables take.  Next use the dynamicplot function to show the how the quantity:\n",
    "\n",
    "$$\n",
    "\\frac{S_n}{n} \\qquad \\textrm{where} \\qquad S_n = g(X_1) + g(X_2) + g(X_3) + \\dots\n",
    "$$\n",
    "\n",
    "changes as a function of $n$.  <b> How and why is this behavior of this random quantity different to the behavior you observed when you plotted the sum of a large number of independent and identically distributed geometric random variables with parameter 0.5? </b> In answering this question remember that the expectation of a function of a discrete random variable can be calculated using:\n",
    "\n",
    "$$\n",
    "\\mathbb{E}[g(X)] = \\sum_{i=0}^\\infty g(x_i) p(x_i)\n",
    "$$\n",
    "\n",
    "as discussed in the video (https://www.youtube.com/watch?v=4l6N4mD1n6I).  Remember also that the sum of the geometric series is given by:\n",
    "\n",
    "$$\n",
    "\\sum_{n=0}^\\infty \\left( \\frac{1}{a} \\right)^n = \\frac{1}{ 1 - a}\n",
    "$$\n",
    "\n",
    "<b> You should write a one page essay (with words and formula) in answer to this question and hand it to be marked. </b>"
   ]
  },
  {
   "cell_type": "code",
   "execution_count": null,
   "metadata": {
    "collapsed": true
   },
   "outputs": [],
   "source": []
  }
 ],
 "metadata": {
  "kernelspec": {
   "display_name": "Python 3",
   "language": "python",
   "name": "python3"
  },
  "language_info": {
   "codemirror_mode": {
    "name": "ipython",
    "version": 3
   },
   "file_extension": ".py",
   "mimetype": "text/x-python",
   "name": "python",
   "nbconvert_exporter": "python",
   "pygments_lexer": "ipython3",
   "version": "3.5.1"
  }
 },
 "nbformat": 4,
 "nbformat_minor": 0
}
