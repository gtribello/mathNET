{
 "cells": [
  {
   "cell_type": "markdown",
   "metadata": {},
   "source": [
    "# Bayes theorem\n",
    "\n",
    "Having learnt about dealing with single random variables we are now going to begin to consider problems involving pairs of random variables.  In the previous exercises we have seen that the cumulative probability distribution function:\n",
    "\n",
    "$$\n",
    "F_X(x) = P( X \\le x )\n",
    "$$\n",
    "\n",
    "characterises the behavior of the random variable, $X$.  Remember the value of this function for argument $x$ equals the probability that the random variable $X$ is less than or equal to $x$.  The cumulative probability distribution thus has the following three rather intuitive properties:\n",
    "\n",
    "$$\n",
    "\\begin{aligned}\n",
    "\\lim_{x \\rightarrow -\\infty} F_X(x) = 0 & \\qquad \\textrm{The random variable cannot have a value that is less than minus infinity} \\\\\n",
    "\\lim_{x \\rightarrow +\\infty} F_X(x) = 1 & \\qquad \\textrm{The random variable must be less than plus infinity} \\\\\n",
    "\\lim_{\\epsilon \\rightarrow 0 } F_X(x + \\epsilon) = F_X(x) & \\qquad \\textrm{The cumulative probability distribution function is right continuous}\n",
    "\\end{aligned}\n",
    "$$\n"
   ]
  },
  {
   "cell_type": "markdown",
   "metadata": {},
   "source": [
    "If you are in any doubt about these ideas watch this video (https://www.youtube.com/watch?v=qbbTEZ4NlCI) again before continuing.\n",
    "\n",
    "We have also in the course of doing these exercises learnt about why probability is a useful concept.  It is not that introducing probability makes the outcomes of individual experiments more predictable.  The outcomes from individual experiments are random variables that cannot be predicted exactly and probability offers little help in this regard.  The utility of probability stems from certain limits theorems in particular the law of large numbers (https://www.youtube.com/watch?v=wCdcPSkqgUk) and the central limit theorem (https://www.youtube.com/watch?v=-XJe3s_BCKw).  These laws tell us that if we do a large number of random experiments and accumulate the sum of the outcomes.  In other words if we calculate:\n",
    "\n",
    "$$\n",
    "\\frac{S_n}{n} \\qquad \\textrm{where} \\qquad S_n = X_1 + X_2 + X_3 + \\dots \n",
    "$$\n",
    "\n",
    "Then this compound outcome from multiple experiments is reasonably predictable.  \n",
    "\n",
    "In this exercise we are going to try to extend on these ideas by thinking about what can happen with pairs of random variables.  As always the cell below contains some python functions that I have written to illustrate the ideas on the worksheet so ensure it is all loaded by clicking on the cell below and clicking on shift and enter.  Once you have done this proceed with the exercises that follow."
   ]
  },
  {
   "cell_type": "code",
   "execution_count": null,
   "metadata": {
    "collapsed": true
   },
   "outputs": [],
   "source": [
    "import math\n",
    "import matplotlib\n",
    "matplotlib.use('TKAgg')\n",
    "import matplotlib.pyplot as plt\n",
    "import matplotlib.animation as anim\n",
    "import random\n",
    "\n",
    "def run(data):\n",
    "    dd = data\n",
    "    run.xdata.append(dd[0])\n",
    "    run.ax.set_xlim(0,dd[0])\n",
    "    \n",
    "    run.ax.grid\n",
    "    if( len(dd)==3 ):\n",
    "        run.ydata1.append(dd[1])\n",
    "        run.ydata2.append(dd[2])\n",
    "        run.line1.set_data(run.xdata, run.ydata1 )\n",
    "        run.line2.set_data(run.xdata, run.ydata2 )\n",
    "        maxl=max(run.ydata1)\n",
    "        if max(run.ydata2) > maxl :\n",
    "            maxl=max(run.ydata2)\n",
    "        run.ax.set_ylim(0,maxl)\n",
    "    else:\n",
    "        run.ydata1.append(dd[1])\n",
    "        run.line1.set_data(run.xdata, run.ydata1 )\n",
    "        run.ax.set_ylim(0,max(run.ydata1))\n",
    "    return run.line1,run.line2\n",
    "        \n",
    "def dynamicplot( ngen, operation, myvar):\n",
    "    operation.t = 0.0\n",
    "    operation.nd = 0.0\n",
    "    operation.nh = 0.0\n",
    "    run.xdata = [0] \n",
    "    run.ydata1 = [0.001]\n",
    "    run.ydata2 = [0]\n",
    "    fig, run.ax = plt.subplots()\n",
    "    \n",
    "    run.line1, = run.ax.plot([],[],'b-')\n",
    "    run.line2, = run.ax.plot([],[],'g-')\n",
    "    \n",
    "    run.ax.grid\n",
    "    \n",
    "    ani = anim.FuncAnimation(fig, run, operation( ngen, myvar ), interval=1, repeat=False)\n",
    "    plt.show()"
   ]
  },
  {
   "cell_type": "markdown",
   "metadata": {},
   "source": [
    "# The problem\n",
    "\n",
    "To illustrate the probabilistic concepts in this question we are going to consider the following problem:\n",
    "\n",
    "<i> Consider a test to detect a disease that 1% of the population have.  The test is 99% effective in detecting an infected person.  However, the test gives a false positive result in 5% of cases.  If a person tests positive for the disease what is the probability that they actually have it? </i>\n",
    "\n",
    "We are going to examine the solution to this problem in various different ways.  In our first attempt, however, we are going to solve it by brute force.  In other words, we are going to use the information in the question to generate a large population of individuals.  We are then going to exploit the law of large numbers to calculate the required probability.  \n",
    "\n",
    "The first step in solving the problem in this way involves thinking carefully about what the characterises each individual person in this question.  When we do this we realise that, for the purposes of the question, each person is simply a pair of random variables.  These two random variables tells us:\n",
    "\n",
    "- Whether or not the person got a positive test result, $T$.\n",
    "- Whether or not the person has the disease, $D$.\n",
    "\n",
    "Each of these quantities can take on two values.  The person can have a positive test result $T=1$ or a negative test result $T=0$ and the person can have the disease $D=1$ or not $D=0$.  Obviously, no person can simultaneously have and not have the disease.  Similarly, when they take the test it returns either a positive or negative result.  It does not simultaneously return both a positive and negative result.\n",
    "\n",
    "Lets now consider the other information in the question.  We are told that:\n",
    "\n",
    "- If the person is amongst the 1% of the population who have the disease ($D=1$) the chance they will have a positive test result ($T=1$) is equal to 99%. \n",
    "- If the person is amongst the 99% of the population who do not have the disease ($D=0$) the chance that they will have a positive test result ($T=1$) is equal to 5%.\n",
    "\n",
    "<b> Given this information write a function that generates the $D$ and $T$ values that characterise a random individual taken from this population.</b>  N.B.  The cell below shows how python functions can return a list of variables:    "
   ]
  },
  {
   "cell_type": "code",
   "execution_count": null,
   "metadata": {
    "collapsed": false
   },
   "outputs": [],
   "source": [
    "def mydemofunction( arg1, arg2 ):\n",
    "    if( arg1<3 ):\n",
    "        if( arg2==1 ): \n",
    "            return 1,2\n",
    "        else:\n",
    "            return 3,4\n",
    "    else:\n",
    "        if( arg2==1 ): \n",
    "            return 5,6\n",
    "        else: \n",
    "            return 7,8\n",
    "print(mydemofunction( 2,1 ))\n",
    "x,y = mydemofunction( 2,2 )\n",
    "print(x,y)\n",
    "print(mydemofunction( 3,1 ))\n",
    "print(mydemofunction( 4,2 ))"
   ]
  },
  {
   "cell_type": "markdown",
   "metadata": {},
   "source": [
    "In writing your function you will need to use what you have learnt about generating bernoulli random variables.  You will also need to think carefully about the logic in the paragraph describing the problem and the logic in the above program.  In order to get later parts of this exercise to work the random variable denoted $D$ in the above must be returned before the random variable denoted $T$ in the above."
   ]
  },
  {
   "cell_type": "code",
   "execution_count": null,
   "metadata": {
    "collapsed": true
   },
   "outputs": [],
   "source": []
  },
  {
   "cell_type": "markdown",
   "metadata": {},
   "source": [
    "# Running a simulation\n",
    "\n",
    "Having now written our function to generate random individuals from the above population we can now use it to simulate our population of individuals who either have or do not have the disease and who either get positive or negative test results.  In doing this we are going to use a varient on the dynamic plot function that we have seen in previous exercises.  The relevant code is provided below.  To get this to run you just need to change the name of the third argument in the function call at the bottom of the plot (the argument that is currently called genperson).  This word needs to be set equal to the name of the function that you have just written above.  Once you have done so press shift and enter and a plot should appear in a new window."
   ]
  },
  {
   "cell_type": "code",
   "execution_count": null,
   "metadata": {
    "collapsed": false
   },
   "outputs": [],
   "source": [
    "def plot( ngen, myvar ):\n",
    "    t = plot.t\n",
    "    nd = plot.nd\n",
    "    nh = plot.nh\n",
    "    cnt = 0\n",
    "    while cnt < ngen :\n",
    "        cnt += 1\n",
    "        D, T = myvar()   # Here we generate the random variables for an individual\n",
    "        if( T==1 ):      # Check if the test result was positive \n",
    "            t += 1.0     # Conter for number of positive test results\n",
    "            if( D==1 ):    # Check if the person is sick\n",
    "                nd += 1.0  # Counter for the number of sick people with positive test results  \n",
    "            else:          # We will do this bit if the person is healty\n",
    "                nh += 1.0  # Counter for the number of healty people with positive test results\n",
    "        if( t>0.0 ) :      # In your modified code this if block will ensure that you don't divide by zero\n",
    "            yield cnt, nd, nh\n",
    "        else :             \n",
    "            yield cnt, 0, 0\n",
    "\n",
    "dynamicplot( 1000, plot, genperson )  # Note that here you need to change the genperson to the name of your function "
   ]
  },
  {
   "cell_type": "markdown",
   "metadata": {},
   "source": [
    "In the plot produced the green line shows the number of individuals who tested positive for the disease but who are actually healthy.  The blue line meanwhile shows the number of individuals who tested positive for the disease and who are actually sick.  The $x$-axis shows how many people have been tested in total.  As you can see from the graph the number of people with positive test results represents only a small fraction of the 1000 people who were tested.  Furthermore, false positives (green line) far outnumber those sick individuals who were identified by the test.  The reason for this is (roughly speaking) connected to the fact that 5% of the 99% of healthy individuals is much more than 99% of the 1% of sick individuals.  \n",
    "\n",
    "Notice that the code above does not give us the answer to the question we seek; namely, the probability that we have the disease if we get a positive result for the test.  This is an important thing to know as in reality we would not know if the person had the disease or not. We are doing the test, after all, to identify sick individuals.  In the next exercise I would thus like you to modify the code in the cell above so that our <b> estimate </b> for the probability of a positive test result is plotted rather than the number of positive test results for the healty and diseased individuals.  For this reason I have put more of the internals of dynamicplot into the above box.  In particular I have shown you how the data points that are plotted on the graph are generated using the function plot.  There are comments within the code that explain what each of the important variables are used to represent.  The coordinates that are plotted on the graph appear after the yield command.  The $x$ and $y$ values for the blue line are the variables in the above code named cnt and nh.  The $x$ and $y$ values for the blue line, meanwhile, are cnt and nd.  We wish to modify this yield command so that the esimtate of the probability of having the disease if you test positive is plotted rather than the numbers.  Hint: you will need to exploit the law of large numbers here.  \n",
    "\n",
    "Think carefully as the change you need to make is relatively small.  In addition, dynamicplot  is robust enough to deal with the fact that you are only plotting one line in the new graph rather than one (you can thus have yield with only two values after it rather than three as in the above). In addition, the extent of the axes will also be dealt with automatically.  You do need to be careful not to divide anything by zero however.\n",
    "\n",
    "In subsequent exercises we are going to calculate this probability exactly so you can test your estimate is.    "
   ]
  },
  {
   "cell_type": "markdown",
   "metadata": {},
   "source": [
    "# Venn diagrams\n",
    "\n",
    "For this next part I am going to show you to a way of visualising the information given in a probability question like our one about the disease.  In particular, we are going to introduce the notion of a Venn diagram.  This ideas is explained in this video https://www.youtube.com/watch?v=aVXR6roXBbY\n",
    "\n",
    "<b> Having now watched the video try to draw a Venn diagram that represents the various possibilities in the sample space for the problem given above </b>.  Just do this on a piece of paper you don't need to write any code.  A good way to start is to draw a Venn diagram that represents the division of the sample space into healty and diseased individuals.  Think about the information in the question: what is the overlap between these two subsets of the sample space?  Once you have done this think about the information in the question about the probability of having a positive test if you are ill and the probability of a false positive.  Remember that the <b> area </b> of a shape is proportional to the probability in these diagrams.  When you are satisfied with your diagram, and not before, watch this video, which explains the correct answer.         "
   ]
  },
  {
   "cell_type": "markdown",
   "metadata": {},
   "source": [
    "# Conditional probability\n",
    "\n",
    "What we have introduced in this exercise via a rather circuitous route is the notion of conditional probability, which is further explained in this video (https://www.youtube.com/watch?v=MSj5LNtPVYk).  To summarise the conditional probability $P(X=1|Y=1)$ is defined as:\n",
    "\n",
    "$$\n",
    "P(X = 1 | Y = 1 ) = \\frac{ P( X=1 \\wedge Y=1 }{P(Y=1)}\n",
    "$$\n",
    "\n",
    "In other words, the conditional probability that the random variable $X=1$ given that the random variable $Y=1$ is equal to the probability that $X=1$ <b> and </b> $Y=1$ divided by the probability that $Y=1$.  \n",
    "\n",
    "The expression for conditional probability can be rearranged and we can thus write:\n",
    "\n",
    "$$\n",
    "P( X=1 \\wedge Y=1 ) = P(X=1|Y=1)P(Y=1)\n",
    "$$\n",
    "\n",
    "Better still we can also recognise that \n",
    "\n",
    "$$\n",
    "P(X=1\\wedge Y=1 ) = P(Y=1|X=1)P(X=1)\n",
    "$$\n",
    "\n",
    "and thus arrive at one of the most celebrated results in statistics, Bayes theorem:\n",
    "\n",
    "$$\n",
    "P(Y=1|X=1)P(X=1) = P(X=1|Y=1)P(Y=1)\n",
    "$$\n",
    "\n",
    "Having learnt about conditional probability consider the question about the disease and the test one further time.  <b>Try to identify which of the probabilities you are given in the question are conditional probabilities and which are absolute probabilities?  Which conditional probabilities are you given and which absolute probabilities are you given?  What conditional probability is the question asking you to calculate?  How can you use the results above to calculate this quantity? </b>  The answers to these questions are covered in this video but please try to answer them yourself before watching it. "
   ]
  },
  {
   "cell_type": "markdown",
   "metadata": {},
   "source": []
  }
 ],
 "metadata": {
  "kernelspec": {
   "display_name": "Python 3",
   "language": "python",
   "name": "python3"
  },
  "language_info": {
   "codemirror_mode": {
    "name": "ipython",
    "version": 3
   },
   "file_extension": ".py",
   "mimetype": "text/x-python",
   "name": "python",
   "nbconvert_exporter": "python",
   "pygments_lexer": "ipython3",
   "version": "3.5.1"
  }
 },
 "nbformat": 4,
 "nbformat_minor": 0
}
