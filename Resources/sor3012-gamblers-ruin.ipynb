{
 "cells": [
  {
   "cell_type": "markdown",
   "metadata": {},
   "source": [
    "# Gamblers ruin\n",
    "\n",
    "In this exercise we are going to look at an famous Markov chain problem known as Gamblers ruin.  Questions on this particular Markov chain appear on exam papers about Stochastic Processes that are set at many universities.  These questions will often have a structure something like the one below:\n",
    "\n",
    "Suppose a gambler enters a casino with 4 pounds to his name.  The game he choses to play involves beting one pound and he can either win or loose.  If he wins he wins back double his stake so if he enters with 4 pounds and wins the first game he then has 5 pounds.  If by contrast he looses the game he looses his stake so if he enters with 4 pounds and looses the first game he now has only 3 pounds.  The gambler decides to stop playing if:\n",
    "\n",
    "- He runs out of money.  In other words he stops playing once he has 0 pounds.\n",
    "- Or if he has 10 pounds.\n",
    "\n",
    "If the probability of winning each individual game is equal to 0.45 and if the outcomes of all the games are independent calculate the probability that the gambler looses all his money and the expected number of games he would play.\n",
    "\n",
    "In this exercise we are going to write a program to simulate this gambler.  Before we get on to that first of all you need to take some time to understand the problem.  Hence, in your notes on this exercise:\n",
    "\n",
    "- Explain why the amount of money the gambler has can be modelled using a Markov chain.\n",
    "- Explain how many states there are in this Markov chain.\n",
    "- Draw the transition graph for this Markov chain.\n",
    "- Identify which states are transient and whcih states are recurrent in this Markov chain.\n",
    "- Write out the transition matrix for this Markov chain.\n",
    "\n",
    "Once you have completed these tasks then move on to the remainder of the exercises contained herein.  As always these tasks begin with some code for dynamic plotting that I have written for you so please press shift and enter on the cell below to begin."
   ]
  },
  {
   "cell_type": "code",
   "execution_count": 2,
   "metadata": {
    "collapsed": false
   },
   "outputs": [],
   "source": [
    "import math\n",
    "import matplotlib\n",
    "matplotlib.use('TKAgg')\n",
    "import matplotlib.pyplot as plt\n",
    "import matplotlib.animation as anim\n",
    "import random\n",
    "\n",
    "def run(data):\n",
    "    indata=data\n",
    "    n=0\n",
    "    k=0\n",
    "    xdata = []\n",
    "    ydata = []\n",
    "    for i in range(0,run.ngen):\n",
    "        xdata.append([])\n",
    "        ydata.append([])\n",
    "    \n",
    "    maxx=0\n",
    "    for p in indata :\n",
    "        if ( p==0 ) | ( p==10 ) :\n",
    "            xdata[n].append(k)\n",
    "            if( k>maxx ) :\n",
    "                maxx = k\n",
    "            ydata[n].append(p)\n",
    "            run.lines[n].set_data( xdata[n], ydata[n] )\n",
    "            k=0\n",
    "            n += 1\n",
    "        else :\n",
    "            xdata[n].append(k)\n",
    "            ydata[n].append(p)\n",
    "            k += 1\n",
    "    if( n<run.ngen ) :\n",
    "        if( k>maxx ) :\n",
    "            maxx = k\n",
    "        run.lines[n].set_data( xdata[n], ydata[n] )\n",
    "    run.ax.set_xlim(0,maxx)\n",
    "    return run.lines,\n",
    "        \n",
    "def gamblersplot( ngen, operation ):\n",
    "    run.ngen=ngen\n",
    "    fig = plt.figure()\n",
    "    run.ax = plt.axes(xlim=(0,20), ylim=(0,10))\n",
    "    run.lines = []\n",
    "    for i in range(0,ngen):\n",
    "        lobj = run.ax.plot([],[],'-')[0]\n",
    "        run.lines.append(lobj)\n",
    "    \n",
    "    ani = anim.FuncAnimation(fig, run, operation( ngen ), interval=1, repeat=False)\n",
    "    plt.show()"
   ]
  },
  {
   "cell_type": "markdown",
   "metadata": {
    "collapsed": true
   },
   "source": [
    "# Generating gambling instances\n",
    "\n",
    "I think that it is useful to think about this problem in terms of a hierarchy of randomness.  The outcome of each individual game is random and as such the eventual outcome - either the gambler leaving with 10 pounds to his name or leaving with nothing - is random.  In addition, the number of games he will play before leaving the casino is also random.  When we look at things this way we realise that this complicated random object is ultimately constructed from two relatively-simple mathematical objects that we understand.  We just using a Bernoulli random variable and the number line (counting).\n",
    "\n",
    "Another way of thinking about this problem is as a random walk with discrete steps along the number line.  To be clear there are 11 states in the chain (having 0, 1, 2, $\\dots$, or 10 pounds).  Obviously, the order in which the gambler will visit these states is random.  Furthermore, if there are  two gamblers they will not visit these states in the same order.  To illustrate some possible outcomes I have written the following code.  If you press shift and enter on the cell below the set of states visited by 9 independent gamblers will be shown in a new window.  "
   ]
  },
  {
   "cell_type": "code",
   "execution_count": 4,
   "metadata": {
    "collapsed": false
   },
   "outputs": [],
   "source": [
    "def gengambler( ngen ):\n",
    "    npaths=0\n",
    "    # This variable ( mypos ) is used to track the amount of money the gambler has\n",
    "    # it is set equal to 4 initially as he starts with 4 pounds.\n",
    "    mypos=4\n",
    "    data = []\n",
    "    data.append(4)\n",
    "    # Here we use a while loop and we stop once the number of visits to \n",
    "    # either state 0 or state 10 are equal to ngen.  In your programs you\n",
    "    # will also need to use a while loop.  When should your program stop?\n",
    "    while npaths<ngen :\n",
    "        # The probability of winning (and increasing the gamblers pot of money)\n",
    "        # by one is 0.45.  We thus generate a uniform random variable between 0\n",
    "        # and 1.  If it is less than 0.45 we increase mypos (the amount of money \n",
    "        # the gambler has by one).\n",
    "        if( random.uniform(0,1)<0.45 ) :\n",
    "            mypos += 1\n",
    "        # If we don't win we loose and the gambler's pot of money decreases by one pound \n",
    "        else :\n",
    "            mypos -= 1\n",
    "        data.append(mypos)\n",
    "        # A path ends whenever the gambler has no more pounds left to gamble or whenever\n",
    "        # he has 10 pounds and choses to stop gambling.\n",
    "        if (mypos==0) | (mypos==10) :\n",
    "            npaths+=1\n",
    "            if npaths<ngen :\n",
    "                data.append(4)\n",
    "            mypos=4\n",
    "        yield data\n",
    "        \n",
    "gamblersplot( 10, gengambler )"
   ]
  },
  {
   "cell_type": "markdown",
   "metadata": {
    "collapsed": true
   },
   "source": [
    "It is worth noting a few things about these paths.  \n",
    "\n",
    "- Different numbers of games are played by each of the gamblers before they arrive in either state 10 or state 0 and stop playing.\n",
    "- Some gamblers finish with the 10 pounds and some loose all there money.\n",
    "\n",
    "With this in mind we are going to investigate the following in the remainder of this exercise.\n",
    "\n",
    "- We are going to try to estimate the average number of games a person plays in the casino.\n",
    "- We are going to try to estimate the probabilty that gamblers will leave the casino with no money.\n",
    "\n",
    "As in many of the other tasks we are going to estimate these quantities by generating a large number of random variables and estimating the expectation of a random variable by exploting the law of large numbers.  Without further ado then here is some code to dynamically plot expectation values."
   ]
  },
  {
   "cell_type": "code",
   "execution_count": null,
   "metadata": {
    "collapsed": true
   },
   "outputs": [],
   "source": [
    "def run(data):\n",
    "    t,y = data\n",
    "    run.xdata.append(t)\n",
    "    run.ydata.append(y)\n",
    "    run.line.set_data(run.xdata, run.ydata )\n",
    "    return run.line,\n",
    "\n",
    "def mean( ngen, myvar ):\n",
    "    t = mean.t\n",
    "    rsum = mean.rsum\n",
    "    cnt = 0\n",
    "    while cnt < ngen :\n",
    "        cnt += 1\n",
    "        t += 1\n",
    "        if( p2>0):\n",
    "            rsum += myvar()\n",
    "        else:\n",
    "            rsum += myvar()\n",
    "        yield cnt, rsum / t\n",
    "        \n",
    "def dynamicplot( ngen, ymax, myvar ):\n",
    "    mean.t = 0\n",
    "    mean.rsum = 0\n",
    "    run.xdata = [] \n",
    "    run.ydata = []\n",
    "    fig, ax = plt.subplots()\n",
    "    \n",
    "    x1data = []\n",
    "    y1data = []\n",
    "    for i in range(0,ngen):\n",
    "        x1data.append(i)\n",
    "        y1data.append(expectation)\n",
    "        \n",
    "    line1 = ax.plot(x1data,y1data,'-')\n",
    "    \n",
    "    run.line, = ax.plot([],[],'.')\n",
    "    ax.set_ylim(0,ymax)\n",
    "    ax.set_xlim(0,ngen)\n",
    "    ax.grid\n",
    "    \n",
    "    ani = anim.FuncAnimation(fig, run, mean( ngen, myvar ), interval=1, repeat=False)\n",
    "    plt.show()"
   ]
  },
  {
   "cell_type": "markdown",
   "metadata": {},
   "source": [
    "In the cell below write a code to generate a random variable that is equal to one when the gambler leaves the casino with no money and that is equal to zero when the gambler leaves the casino with 10 pounds.  Notice that I have provided comments in the code I wrote for generating random paths in order to help you with this task.  Also note that I have provided a call to the dynamic plotting utitities above so that you can get a graph showing you how this expectation converges to a finite value."
   ]
  },
  {
   "cell_type": "code",
   "execution_count": null,
   "metadata": {
    "collapsed": true
   },
   "outputs": [],
   "source": [
    "# You need to write the content of this function as at the moment the \n",
    "# function just returns 1, which is not very random.\n",
    "def gamblerlooses() :\n",
    "    return 1\n",
    "\n",
    "# The arguments here are\n",
    "# Number of variables to generate = 1000\n",
    "# Maximum value for y axis = 1.0\n",
    "# function that generates the random variables = gambler looses\n",
    "dynamicplot( 1000, 1.0,  gamblerlooses )"
   ]
  },
  {
   "cell_type": "markdown",
   "metadata": {},
   "source": [
    "Now that we have examined the probability that gambler wins the game lets turn to the expected number of games he will play.  In the cell below write a code to generate a random variable that measures the number of games played before absorbtion.  The comments in my program will again help you with this task.  Use a call to the dynamic plotting tool to look at the convergence of this random variable."
   ]
  },
  {
   "cell_type": "code",
   "execution_count": null,
   "metadata": {
    "collapsed": true
   },
   "outputs": [],
   "source": []
  },
  {
   "cell_type": "markdown",
   "metadata": {},
   "source": [
    "In the cell below I have provided the tools that we used to calculate a histogram from a large number of discrete random variables.  Use this tool to plot the a histogram of values for the number of games played by the gambler prior to ruin.  In your notes explain the range of values can this random variable take? "
   ]
  },
  {
   "cell_type": "code",
   "execution_count": null,
   "metadata": {
    "collapsed": true
   },
   "outputs": [],
   "source": []
  },
  {
   "cell_type": "markdown",
   "metadata": {},
   "source": [
    "The remainder of your notes on the gamblers ruin problem should focus on the analytical solution to this problem.  I will give you a separate handout that will take you through this process."
   ]
  },
  {
   "cell_type": "code",
   "execution_count": null,
   "metadata": {
    "collapsed": true
   },
   "outputs": [],
   "source": []
  }
 ],
 "metadata": {
  "kernelspec": {
   "display_name": "Python 3",
   "language": "python",
   "name": "python3"
  },
  "language_info": {
   "codemirror_mode": {
    "name": "ipython",
    "version": 3
   },
   "file_extension": ".py",
   "mimetype": "text/x-python",
   "name": "python",
   "nbconvert_exporter": "python",
   "pygments_lexer": "ipython3",
   "version": "3.5.1"
  }
 },
 "nbformat": 4,
 "nbformat_minor": 0
}
