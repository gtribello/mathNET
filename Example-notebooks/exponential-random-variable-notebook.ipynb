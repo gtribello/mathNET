{
 "cells": [
  {
   "cell_type": "code",
   "execution_count": 32,
   "metadata": {
    "collapsed": false,
    "scrolled": true
   },
   "outputs": [
    {
     "data": {
      "text/html": [
       "<script>\n",
       "code_show=true; \n",
       "function code_toggle() {\n",
       " if (code_show){\n",
       " $('div.input').hide();\n",
       " } else {\n",
       " $('div.input').show();\n",
       " }\n",
       "} \n",
       "$( document ).ready(code_toggle);\n",
       "</script>"
      ],
      "text/plain": [
       "<IPython.core.display.HTML object>"
      ]
     },
     "execution_count": 32,
     "metadata": {},
     "output_type": "execute_result"
    }
   ],
   "source": [
    "from IPython.display import HTML\n",
    "\n",
    "HTML('''<script>\n",
    "code_show=true; \n",
    "function code_toggle() {\n",
    " if (code_show){\n",
    " $('div.input').hide();\n",
    " } else {\n",
    " $('div.input').show();\n",
    " }\n",
    "} \n",
    "$( document ).ready(code_toggle);\n",
    "</script>''')"
   ]
  },
  {
   "cell_type": "markdown",
   "metadata": {},
   "source": [
    "# The exponential random variable\n",
    "\n",
    "## Introduction\n",
    "\n",
    "The exponentially distributed random variable can be used to describe the process of waiting for something to occur.  When using this type of random variable you assume that the probability that the \n",
    "event will occur in the next $s$ seconds is independent of the ammount of time that you have waited thus far, $t$.  If we thus call the random ammount of time that we wait $T$ we thus have that:\n",
    "\n",
    "$$\n",
    "P(T>t+s)=P(T>t)P(T>s)\n",
    "$$\n",
    "\n",
    "This property is often referred to as the memorylessness as the probablity that the event will occur is unaffected by the ammount of time that we have waited thus far.  We thus state that the random \n",
    "process has no memory of all this waiting. \n",
    "\n",
    "## Transition graph and classification of states\n",
    "\n",
    "We can describe the process of waiting for an event to occur using the two-state continuous time Markov chain illustrated below:\n",
    "\n",
    "<img src='exponential-random-variable-chain.png'>\n",
    "\n",
    "State 0 in this chain is the state we are in before the event occurs and state 1 is the state that we are in once the event has occured.  As you can see from the figure state 0 is transient, while \n",
    "state 1 is recurrent and absorbing.\n",
    "\n",
    "## Jump rate matrix\n",
    "\n",
    "The jump rate matrix for the two-state Markov chain described in the previous section is equal to:\n",
    "\n",
    "$$\n",
    "\\mathbf{Q} = \\left(\n",
    "\\begin{matrix}\n",
    " -\\lambda & \\lambda \\\\\n",
    " 0 & 0\n",
    "\\end{matrix}\n",
    "\\right)\n",
    "$$\n",
    "\n",
    "where $\\lambda$ is a rate parameter.\n",
    "\n",
    "## Using the Kolmogorov equation\n",
    "\n",
    "For this particular continuous time Markov chain we can use the Kolmogorov equation:\n",
    "\n",
    "$$\n",
    "\\frac{\\textrm{d}\\mathbf{P}(t)}{\\textrm{d}t} = \\mathbf{P}(t)\\mathbf{Q}\n",
    "$$\n",
    "\n",
    "to obtain an expression for the probability of being in each state at time $t$.  Inserting the Jump rate matrix from the previous section into the above equation gives:\n",
    "\n",
    "$$\n",
    "\\left(\n",
    "\\begin{matrix}\n",
    " \\textrm{d}P_{00}(t) / \\textrm{d}t & \\textrm{d}P_{01}(t) / \\textrm{d}t \\\\\n",
    " \\textrm{d}P_{10}(t) / \\textrm{d}t & \\textrm{d}P_{11}(t) / \\textrm{d}t\n",
    "\\end{matrix}\n",
    "\\right) =\n",
    "\\left(\n",
    "\\begin{matrix}\n",
    " P_{00}(t) & P_{01}(t) \\\\\n",
    " P_{10}(t) & P_{11}(t) \n",
    "\\end{matrix}\n",
    "\\right)\n",
    "\\left(\n",
    "\\begin{matrix}\n",
    " -\\lambda & \\lambda \\\\\n",
    " 0 & 0\n",
    "\\end{matrix}\n",
    "\\right)\n",
    "$$\n",
    "\n",
    "Multiplying the first row of the first matrix on the right hand side of this equation by the first column of the second matrix on the right hand side of this equation gives:\n",
    "\n",
    "$$\n",
    "\\frac{\\textrm{d}P_{00}(t)}{\\textrm{d}t } = -\\lambda P_{00}(t)\n",
    "$$\n",
    "\n",
    "We can then solve this differential equation as follows:\n",
    "\n",
    "$$\n",
    "\\frac{\\textrm{d}P_{00}(t)}{\\textrm{d}t } = -\\lambda P_{00}(t) \\quad \\rightarrow \\quad \\int \\frac{\\textrm{d}P_{00}(t)}{P_{00}(t)} = - \\int \\lambda \\textrm{d}t \\quad \\rightarrow \\quad \\ln[P_{00}(t)] \n",
    "= -\\lambda t + C \\quad \\rightarrow \\quad P_{00}(t) = Ae^{-\\lambda t}\n",
    "$$\n",
    "\n",
    "where $A=e^{C}$.  $P_{00}(t)$ that we have obtained through this procedure is the probablity that at time $t$ we are still in state 0 - that is to say it is the probablity that at time $t$ the event \n",
    "has not yet happened.  Now it seems reasonable to assume that at time $t=0$ the event has not yet happened - after all if it had happened we wouldn't be waiting.  It is therefore safe to assume the \n",
    "boundary condition $P_{00}(0)=1$.  Inserting this condition into the above we find that:\n",
    "\n",
    "$$\n",
    "P_{00}(0)=Ae^{-\\lambda 0} = 1 \\qquad \\rightarrow A \\times 1 = 1 \\qquad \\rightarrow \\qquad A=1\n",
    "$$\n",
    "\n",
    "The probablity that the event will not have happened at time $t$ is thus:\n",
    "\n",
    "$$\n",
    "P_{00}(t) = e^{-\\lambda t}\n",
    "$$\n",
    "\n",
    "Meanwhile the probablity that it will have happened by time $t$ is:\n",
    "\n",
    "$$\n",
    "P_{01}(t) = 1 - P_{00}(t) = 1 - e^{-\\lambda t}\n",
    "$$\n",
    "\n",
    "## Expected waiting time\n",
    "\n",
    "We can calculate the expected time we would expect to wait for the event to occur by introducting a random variable $T$. This random variable measures the ammount of time it takes for \n",
    "the event to occur.  This is obvioualy a continuous random variable and in terms of this random variable the two probablities that we obtained in the previous part are:\n",
    "\n",
    "$$\n",
    "P_{00}(t) = P(T>t) \\qquad \\textrm{and} \\qquad P_{01}(t) = P(T \\le t)\n",
    "$$\n",
    "\n",
    "We thus state that the cumulative probablity distribution function for our random variable is $F_T(t) = 1-e^{-\\lambda t}$.  To calculate the expectation of a continous random variable we must solve \n",
    "the following integral.\n",
    "\n",
    "$$\n",
    "\\mathbb{E}(T) = \\int_{-\\infty}^\\infty t f_T(t) \\textrm{d}t\n",
    "$$\n",
    "\n",
    "where $f_T(t)$ is the probablity density function for our random variable, which can be found by taking the first derivative of the cumulative probablity distribution function.  In this case the \n",
    "probablity density function is thus:\n",
    "\n",
    "$$\n",
    "f_T(t) = \\frac{\\textrm{d}}{\\textrm{d}t} \\left[ 1 - e^{-\\lambda t} \\right] = \\lambda e^{-\\lambda t}\n",
    "$$\n",
    "\n",
    "Substituting this into our formula for the expectation and remembering that $T$ cannot be negeative as it is the ammount of time that we have to wait for an event we thus find that:\n",
    "\n",
    "$$\n",
    "\\begin{aligned}\n",
    " \\mathbb{E}(T) = \\int_0^\\infty t \\lambda e^{-\\lambda t} \\textrm{d}t = \\left[ t e^{-\\lambda t} \\right]_0^\\infty - \\int_0^\\infty e^{-\\lambda t} \\textrm{d}t = \\left[ -\\frac{e^{-\\lambda t}}{\\lambda} \n",
    "\\right]_0^\\infty = \\frac{1}{\\lambda}\n",
    "\\end{aligned}\n",
    "$$\n",
    "\n",
    "## Numerical simulations\n",
    "\n",
    "The cell below contains the python code for a function that generates exponentially distributed random variables.  It is hidden in this worksheet but you should show all the code that you use to generate plots."
   ]
  },
  {
   "cell_type": "code",
   "execution_count": 9,
   "metadata": {
    "collapsed": true
   },
   "outputs": [],
   "source": [
    "import random\n",
    "import math\n",
    "from scipy.stats import norm\n",
    "\n",
    "def exprand(p):\n",
    "    urand = random.uniform(0,1)\n",
    "    return - math.log(urand) / p"
   ]
  },
  {
   "cell_type": "markdown",
   "metadata": {},
   "source": [
    "To test that I have implemented this function correctly I have, in the cell below, generated the sample mean and variance from 5000 indentical and independent expential random variables that I have generated using my function.  The parameter for the exponential random variable that I have used was set equal to 0.5 so the exact expectation should equal 2.0.  As you can see from below the sample mean I have calculated is within the 95 % confidence limit of this true expectation, which gives me confidence that I have implemented my function correctly."
   ]
  },
  {
   "cell_type": "code",
   "execution_count": 15,
   "metadata": {
    "collapsed": false
   },
   "outputs": [
    {
     "name": "stdout",
     "output_type": "stream",
     "text": [
      "SAMPLE MEAN IS 2.021527329343546 WITH 95 % CONFIDENCE LIMIT 0.110136817043\n"
     ]
    }
   ],
   "source": [
    "mean, sqmean, n, nrand = 0, 0, 0,5000\n",
    "for i in range(0,nrand):\n",
    "    erand = exprand(0.5)\n",
    "    mean += erand\n",
    "    sqmean += erand*erand\n",
    "    n += 1.0\n",
    "    \n",
    "mean = mean / n\n",
    "sigma = sqmean /n - mean*mean\n",
    "sigma = n*sigma/(n-1)\n",
    "limit = (sigma/math.sqrt(nrand))*norm.ppf((0.95 + 1) / 2) \n",
    "\n",
    "print( \"SAMPLE MEAN IS\", mean, \"WITH 95 % CONFIDENCE LIMIT\", limit )"
   ]
  },
  {
   "cell_type": "markdown",
   "metadata": {},
   "source": [
    "To further test my implementation I have written code to estimate the cumulative probability distribution function for the random variable that I have generated by generating a large number of samples.  I have used a method here that is akin to what is done when a histogram is constructed."
   ]
  },
  {
   "cell_type": "code",
   "execution_count": 30,
   "metadata": {
    "collapsed": false
   },
   "outputs": [
    {
     "data": {
      "image/png": "[encoded data removed]",
      "text/plain": [
       "<matplotlib.figure.Figure at 0x7f1fb7beb748>"
      ]
     },
     "metadata": {},
     "output_type": "display_data"
    }
   ],
   "source": [
    "import matplotlib.pyplot as plt\n",
    "%matplotlib inline\n",
    "\n",
    "histo, xr, delr, N, nbins = [], [], 0.1, 5000, 100\n",
    "for i in range(0,nbins):\n",
    "    xr.append( (i+0.5)*delr )\n",
    "    histo.append(0)\n",
    "    \n",
    "for i in range(0,N):\n",
    "    erand = exprand(0.5)\n",
    "    for j in range(0,nbins):\n",
    "        if( erand < xr[j] ) : histo[j] += 1.\n",
    "\n",
    "        \n",
    "for i in range(0,nbins) : histo[i] = histo[i] / N \n",
    "    \n",
    "plt.plot( xr, histo, 'k-' )\n",
    "plt.xlabel(\"x\")\n",
    "plt.ylabel(\"$F_X(x)$\")\n",
    "plt.show()"
   ]
  },
  {
   "cell_type": "markdown",
   "metadata": {},
   "source": [
    "## Beyond the assumptions of Markovianity\n",
    "\n",
    "\n",
    "We can relax the Markov assumption for exponential random variables by introducing a survival function.  This survival function is a function of the form:\n",
    "\n",
    "$$\n",
    "S_T(t) = P(T > t ) = \\exp\\left( - \\int_0^t \\lambda(\\tau) \\textrm{d}\\tau \\right) \n",
    "$$\n",
    "\n",
    "where $\\lambda(\\tau)$ is now a function of time known as a hazard function or failure rate that has the following property:\n",
    "\n",
    "$$\n",
    "\\lim_{t \\rightarrow \\infty} t \\lambda(t) = \\infty\n",
    "$$\n",
    "\n",
    "This limit is required so as to ensure that $S_T(t) \\rightarrow 0$ in the same limit.  It is trivial to derive expressions for the cumulative probability distribution function, the probability density function and the expectation starting from the expression for $S_T(t)$.\n",
    "\n",
    "## References\n",
    "\n",
    "In compiling the above report I used the following resources:\n",
    "\n",
    "\n",
    "- https://en.wikipedia.org/wiki/Exponential\\_distribution\n",
    "- SOR3012 notes chapter 18\n"
   ]
  },
  {
   "cell_type": "code",
   "execution_count": null,
   "metadata": {
    "collapsed": true
   },
   "outputs": [],
   "source": []
  }
 ],
 "metadata": {
  "kernelspec": {
   "display_name": "Python 3",
   "language": "python",
   "name": "python3"
  },
  "language_info": {
   "codemirror_mode": {
    "name": "ipython",
    "version": 3
   },
   "file_extension": ".py",
   "mimetype": "text/x-python",
   "name": "python",
   "nbconvert_exporter": "python",
   "pygments_lexer": "ipython3",
   "version": "3.5.1"
  }
 },
 "nbformat": 4,
 "nbformat_minor": 0
}
