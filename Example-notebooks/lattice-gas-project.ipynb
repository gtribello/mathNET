{
 "cells": [
  {
   "cell_type": "code",
   "execution_count": 8,
   "metadata": {},
   "outputs": [
    {
     "data": {
      "text/html": [
       "<script>jQuery(function() {if(jQuery(\"body.notebook_app\").length==0) {jQuery(\".input_area\").toggle(); jQuery(\".prompt\").toggle();}});</script>"
      ]
     },
     "metadata": {},
     "output_type": "display_data"
    }
   ],
   "source": [
    "import IPython.core.display as di\n",
    "\n",
    "di.display_html('<script>jQuery(function() {if(jQuery(\"body.notebook_app\").length==0) {jQuery(\".input_area\").toggle(); jQuery(\".prompt\").toggle();}});</script>', raw=True)"
   ]
  },
  {
   "cell_type": "code",
   "execution_count": 9,
   "metadata": {
    "collapsed": true
   },
   "outputs": [],
   "source": [
    "import math\n",
    "import numpy as np\n",
    "import matplotlib.pyplot as plt\n",
    "%matplotlib inline"
   ]
  },
  {
   "cell_type": "markdown",
   "metadata": {},
   "source": [
    "# Lattice gas project\n",
    "\n",
    "A lattice gas is a system of spins that can take a value of +1 and -1.  These spins do not interact with each other but they do interact with an external magnetic field, $H$.  The Hamiltonian for this system is thus:\n",
    "\n",
    "$$\n",
    "H(s_1, s_2, \\dots, s_n) = -H \\mu \\sum_{i=1}^N s_i\n",
    "$$\n",
    "\n",
    "where $s_i$ is the spin coordinate of the $i$th spin.  The code in the cell below calculates the internal energy for a system of $N$ spins in an external magnetic field, $H$, in units of $H \\mu$: "
   ]
  },
  {
   "cell_type": "code",
   "execution_count": 10,
   "metadata": {
    "collapsed": true
   },
   "outputs": [],
   "source": [
    "def hamiltonian( s ) :\n",
    "    energy = 0\n",
    "    for spin in s : energy = energy - spin\n",
    "    return energy"
   ]
  },
  {
   "cell_type": "markdown",
   "metadata": {},
   "source": [
    "## Calculating the canonical partition function for this system\n",
    "\n",
    "We can calculate the canonical partition function for a system of $n$ spins in a lattice gas model using:\n",
    "\n",
    "$$\n",
    "Z = \\sum_{s_1=0}^1 \\sum_{s_2=0}^1 \\dots \\sum_{s_n=0}^1 e^{-\\beta H(s_1,s_2,\\dots, s_n )}\n",
    "$$\n",
    "\n",
    "An analytical expression for this quantity can be determined can be determined as follows:\n",
    "\n",
    "$$\n",
    "\\begin{aligned}\n",
    "Z & = \\sum_{s_1=0}^1 \\sum_{s_2=0}^1 \\dots \\sum_{s_n=0}^1 e^{\\beta H \\mu\\sum_{i=1}^n z(s_i) } \\\\\n",
    "  & = \\sum_{s_1=0}^1 \\sum_{s_2=0}^1 \\dots \\sum_{s_n=0}^1 \\prod_{i=1}^n e^{\\beta H \\mu z(s_i) } \\\\\n",
    "  & = \\left[ \\sum_{s_1=0}^1 e^{\\beta H \\mu z(s_1) } \\right] \\left[ \\sum_{s_2=0}^1 e^{\\beta H \\mu z(s_2) } \\right] \\dots \\left[ \\sum_{s_n=0}^1 e^{\\beta H \\mu z(s_n) } \\right] \\\\\n",
    "  & = \\left[ e^{\\beta H \\mu} + e^{-\\beta H \\mu } \\right] \\left[ e^{\\beta H \\mu} + e^{-\\beta H \\mu} \\right] \\dots \\left[ e^{\\beta H \\mu} + e^{-\\beta H \\mu} \\right] \\\\\n",
    "  & = \\left[ e^{\\beta H \\mu} + e^{-\\beta H \\mu } \\right]^n = 2^n \\cosh^n(\\beta H \\mu )\n",
    "\\end{aligned}\n",
    "$$\n",
    "\n",
    "Alternatively we can calculate the value of the canonical partition function at a particular temperature for a small numbers of spins numerically using the first of the expressions in the cell.   The cell below thus contains a function that calculates the partition function for a system of $N$ spins exactly.  The value of the partition function for a system of 10 spins as a function of temperature is then shown plotted on a graph."
   ]
  },
  {
   "cell_type": "code",
   "execution_count": 11,
   "metadata": {},
   "outputs": [
    {
     "data": {
      "image/png": "[encoded data removed]",
      "text/plain": [
       "<matplotlib.figure.Figure at 0x10b8585f8>"
      ]
     },
     "metadata": {},
     "output_type": "display_data"
    }
   ],
   "source": [
    "def calc_pfunc( n, T ) :\n",
    "    pfunc, spins = 0, [0]*n\n",
    "    for i in range( 2**n ) :\n",
    "        iconf = i\n",
    "        for j in range(n) :\n",
    "            power = 2**(n-1-j)\n",
    "            spins[j] = math.floor( iconf / power )\n",
    "            iconf = iconf - spins[j]*power\n",
    "            if spins[j]==0 : spins[j] = -1\n",
    "            \n",
    "        energy = hamiltonian( spins )\n",
    "        pfunc += math.exp( - energy / T )\n",
    "    return pfunc\n",
    "\n",
    "xvals, yvals, dd = [], [], 0.1\n",
    "\n",
    "for i in range(1,50) :\n",
    "    xvals.append( dd*i )\n",
    "    yvals.append( calc_pfunc( 10, dd*i ) )\n",
    "\n",
    "plt.semilogy( xvals, yvals )\n",
    "plt.title(\"Partition function 10 spins of lattice gas against temperature\")\n",
    "plt.xlabel('T / H')\n",
    "plt.ylabel('Z')\n",
    "plt.show()"
   ]
  },
  {
   "cell_type": "markdown",
   "metadata": {},
   "source": [
    "# Calculating the ensemble average for the energy as a function of temperature\n",
    "\n",
    "We can calculate the ensemble average of the energy for a lattice gas module using the following formula:\n",
    "\n",
    "$$\n",
    "\\langle E \\rangle = \\frac{1}{Z} \\sum_{s_1=0}^1 \\sum_{s_2=0}^1 \\dots \\sum_{s_n=0}^1 H(s_1,s_2,\\dots, s_n ) e^{-\\beta H(s_1,s_2,\\dots, s_n )}\n",
    "$$\n",
    "\n",
    "In addition, this ensemble average can be found by taking the partial derivative of the logarithm of the partition function with respect to inverse temperature:\n",
    "\n",
    "$$\n",
    "\\langle E \\rangle = - \\left( \\frac{ \\partial \\ln Z }{ \\partial \\beta} \\right)\n",
    "$$\n",
    "\n",
    "When we do this for the analytical experssion that was derived in the previous markdown cell we find that:\n",
    "\n",
    "$$\n",
    "\\begin{aligned}\n",
    "\\langle E \\rangle = -\\left( \\frac{ \\partial \\ln Z }{ \\partial \\beta} \\right) & =  -\\frac{ \\partial }{ \\partial \\beta} \\left[ n \\ln 2 + n \\ln \\cosh(\\beta H \\mu ) \\right] \\\\\n",
    " & = - \\frac{1}{\\cosh(\\beta H \\mu ) } \\frac{ \\partial }{ \\partial \\beta} \\cosh(\\beta H \\mu ) \\\\\n",
    " & = - \\frac{-H \\mu \\sinh(\\beta H \\mu) }{\\cosh(\\beta H \\mu ) } = -H \\mu \\tanh(\\beta H \\mu )\n",
    "\\end{aligned}\n",
    "$$\n",
    "\n",
    "The alternative is to calculate the ensemble average numerically using the first formula in this markdown cell.  In the cell below there is a function that calculates the ensemble average of the energy of $N$ spins exactly.  The value of the ensemble average for a system of 10 spins as a function of temperature is then shown plotted on a graph."
   ]
  },
  {
   "cell_type": "code",
   "execution_count": 12,
   "metadata": {},
   "outputs": [
    {
     "data": {
      "image/png": "[encoded data removed]",
      "text/plain": [
       "<matplotlib.figure.Figure at 0x10ec164e0>"
      ]
     },
     "metadata": {},
     "output_type": "display_data"
    }
   ],
   "source": [
    "def calc_aenergy( n, T ) :\n",
    "    pfunc, spins = 0, [0]*n\n",
    "    for i in range( 2**n ) :\n",
    "        iconf = i\n",
    "        for j in range(n) :\n",
    "            power = 2**(n-1-j)\n",
    "            spins[j] = math.floor( iconf / power )\n",
    "            iconf = iconf - spins[j]*power\n",
    "            if spins[j]==0 : spins[j] = -1 \n",
    "        energy = hamiltonian( spins )\n",
    "        pfunc += energy*math.exp( -energy / T )\n",
    "    return pfunc\n",
    "\n",
    "xvals, yvals, dd = [], [], 0.1\n",
    "\n",
    "for i in range(1,200) :\n",
    "    xvals.append( dd*i )\n",
    "    numer, denom = calc_aenergy( 10, dd*i ), calc_pfunc( 10, dd*i )\n",
    "    yvals.append( numer / denom )\n",
    "\n",
    "plt.plot( xvals, yvals )\n",
    "plt.title(\"Ensemble average of energy for a lattice gas against temperature\")\n",
    "plt.xlabel('T / H')\n",
    "plt.ylabel(r'$\\langle E \\rangle$ / H')\n",
    "plt.show()"
   ]
  },
  {
   "cell_type": "markdown",
   "metadata": {
    "collapsed": true
   },
   "source": [
    "# Calculating the histogram as a function of the magnetization at two temperatures\n",
    "\n",
    "We can also calculate the probability of the probability of occupying a state with a particular magnetism $m$ using\n",
    "\n",
    "$$\n",
    "P(M = m) = \\frac{1}{Z} \\sum_{s_1=0}^1 \\sum_{s_2=0}^1 \\dots \\sum_{s_n=0}^1 \\delta(M(s_1,s_2,\\dots, s_n ),m) e^{-\\beta H(s_1,s_2,\\dots, s_n )}\n",
    "$$\n",
    "\n",
    "This is done below for two different temperatures and histograms are shown"
   ]
  },
  {
   "cell_type": "code",
   "execution_count": 44,
   "metadata": {},
   "outputs": [
    {
     "data": {
      "image/png": "[encoded data removed]",
      "text/plain": [
       "<matplotlib.figure.Figure at 0x10f488e80>"
      ]
     },
     "metadata": {},
     "output_type": "display_data"
    }
   ],
   "source": [
    "def build_histo( n, T ) :\n",
    "    pfunc, spins, vals, hist = 0, [0]*n, [0]*(2*n+1), [0]*(2*n+1)\n",
    "    for i in range( 2*n+1 ) : vals[i] = i - n\n",
    "    for i in range( 2**n ) :\n",
    "        iconf = i\n",
    "        for j in range(n) :\n",
    "            power = 2**(n-1-j)\n",
    "            spins[j] = math.floor( iconf / power )\n",
    "            iconf = iconf - spins[j]*power\n",
    "            if spins[j]==0 : spins[j] = -1 \n",
    "        mag, energy = 0, hamiltonian( spins )\n",
    "        for spin in spins : mag = mag + spin\n",
    "        hist[mag+n] = hist[mag+n] + math.exp( -energy / T )\n",
    "    for i in range( 2*n+1 ) : hist[i] = hist[i] / calc_pfunc( n, T ) \n",
    "    return vals, hist\n",
    "\n",
    "vals, hist = build_histo( 10, 1.0 )\n",
    "fig, (ax1,ax2) = plt.subplots(1,2, sharey=True)\n",
    "ax1.set_title(\"T = 1.0\")\n",
    "ax1.set_xlabel(\"Magnetisation / H\")\n",
    "ax1.set_ylabel(\"P(H)\")\n",
    "rects = ax1.bar( vals, hist, [0.3]*(21), color='r')\n",
    "vals, hist = build_histo( 10, 10.0 )\n",
    "ax2.set_title(\"T = 5.0\")\n",
    "ax2.set_xlabel(\"Magnetization / H\")\n",
    "rects = ax2.bar( vals, hist, [0.3]*21, color=\"r\" )\n",
    "plt.show()"
   ]
  },
  {
   "cell_type": "markdown",
   "metadata": {},
   "source": [
    "## Calculating the spin-spin correlation function\n",
    "\n",
    "The spin-spin correlation function is calculated using:\n",
    "\n",
    "$$\n",
    "\\delta(r) = \\frac{\\langle (s_i - \\langle s_i \\rangle )( s_{i+r} - \\langle s_i \\rangle ) \\rangle }{ \\langle (s_i - \\langle s_i \\rangle )^2 }\n",
    "$$\n",
    "\n",
    "where $\\langle s_i \\rangle$ is the ensemble average for the spin variables.  This quantity can be used to give a sense of the strength of the interaction between pairs of spins that are separated by different numbers of spins.\n",
    "\n",
    "The code in the cell below calculates the spin-spin correlation function for a set of 10 spins in a magentic field."
   ]
  },
  {
   "cell_type": "code",
   "execution_count": 45,
   "metadata": {},
   "outputs": [
    {
     "data": {
      "image/png": "[encoded data removed]",
      "text/plain": [
       "<matplotlib.figure.Figure at 0x10f18f048>"
      ]
     },
     "metadata": {},
     "output_type": "display_data"
    }
   ],
   "source": [
    "def calc_average_spin( n, T ) :\n",
    "    pfunc, spins = 0, [0]*n\n",
    "    for i in range( 2**n ) :\n",
    "        iconf = i\n",
    "        for j in range(n) :\n",
    "            power = 2**(n-1-j)\n",
    "            spins[j] = math.floor( iconf / power )\n",
    "            iconf = iconf - spins[j]*power\n",
    "            if spins[j]==0 : spins[j] = -1 \n",
    "        energy = hamiltonian( spins )\n",
    "        for j in range(n) : pfunc += spins[j]*math.exp( -energy / T ) / float(n)\n",
    "    return pfunc / calc_pfunc( n, T )\n",
    "\n",
    "def calc_average_correlation( n, T, r ) :\n",
    "    pfunc, spins, average = 0, [0]*n, calc_average_spin( n, T ) \n",
    "    for i in range( 2**n ) :\n",
    "        iconf = i\n",
    "        for j in range(n) :\n",
    "            power = 2**(n-1-j)\n",
    "            spins[j] = math.floor( iconf / power )\n",
    "            iconf = iconf - spins[j]*power\n",
    "            if spins[j]==0 : spins[j] = -1 \n",
    "        energy = hamiltonian( spins )\n",
    "        for j in range(n) : \n",
    "            norm = (spins[j]-average)*(spins[j]-average)\n",
    "            correlation = (spins[j]-average)*(spins[(j+r)%n]-average)\n",
    "            pfunc += (correlation/norm)*math.exp( -energy / T ) / float(n)\n",
    "    return pfunc / calc_pfunc( n, T )\n",
    "\n",
    "correlation = []\n",
    "for i in range(10) : correlation.append( calc_average_correlation( 10, 1.0, i ) )\n",
    "    \n",
    "vals = [ 0, 1, 2, 3, 4, 5, 6, 7, 8, 9 ] \n",
    "fig, (ax1,ax2) = plt.subplots(1,2, sharey=True)\n",
    "ax1.set_title(\"T = 1.0\")\n",
    "ax1.set_xlabel(\"distance between spins\")\n",
    "ax1.set_ylabel(r'$\\delta(r)$')\n",
    "rects = ax1.plot( vals, correlation, color='r')\n",
    "\n",
    "average, correlation = calc_average_spin( 10, 5.0), []\n",
    "for i in range(10) : correlation.append( calc_average_correlation( 10, 5.0, i ) - average*average)\n",
    "    \n",
    "ax2.set_title(\"T = 5.0\")\n",
    "ax2.set_xlabel(\"distance between spins\")\n",
    "rects = ax2.plot( vals, correlation, color='r')\n",
    "plt.show()"
   ]
  },
  {
   "cell_type": "markdown",
   "metadata": {
    "collapsed": true
   },
   "source": [
    "## The limits of the (exact) numerical solution\n",
    "\n",
    "Here you should explain why we can only calculate the solutions to these problems numerically when the number of sites in the model is small."
   ]
  },
  {
   "cell_type": "code",
   "execution_count": null,
   "metadata": {
    "collapsed": true
   },
   "outputs": [],
   "source": []
  }
 ],
 "metadata": {
  "kernelspec": {
   "display_name": "Python 3",
   "language": "python",
   "name": "python3"
  },
  "language_info": {
   "codemirror_mode": {
    "name": "ipython",
    "version": 3
   },
   "file_extension": ".py",
   "mimetype": "text/x-python",
   "name": "python",
   "nbconvert_exporter": "python",
   "pygments_lexer": "ipython3",
   "version": "3.5.3"
  }
 },
 "nbformat": 4,
 "nbformat_minor": 1
}
