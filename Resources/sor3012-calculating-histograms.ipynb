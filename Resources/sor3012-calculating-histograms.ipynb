{
 "cells": [
  {
   "cell_type": "markdown",
   "metadata": {},
   "source": [
    "# Calculating a histogram\n",
    "\n",
    "In this exercise we are going to learn how to write a computer program that estimates the probability mass function for an unknown discrete random variable.  We are then going to modify this idea so that we can also esimtate probability densities and thus work with unkown continuous random variables.  Once this is done we will look at sums of random variables, which will bring us to our first encounter with the central limit theorem.  \n",
    "\n",
    "# Revision\n",
    "\n",
    "In a previous exercise we introduced the law of large numbers:\n",
    "\n",
    "$$\n",
    "\\lim_{n \\rightarrow \\infty} P\\left( \\left|\\frac{S_n}{n} - \\mathbb{E}(X) \\right| < \\epsilon \\right) = 0 \\qquad \\textrm{where} \\qquad S_n = X_1 + X_2 + X_3 + \\dots\n",
    "$$\n",
    "\n",
    "In this expression $X_1$, $X_2$, $X_3$ and so on are all independent and identically distributed random variables.  In other words, these variables are the (random) outcomes from a set of identical experiments that have been performed.  The quantity $S_n$ is, therefore, the sum of all these random variables and in the expression on the left this is divided by the number of experiments to give us the mean.  The symbol $\\mathbb{E}(X)$ is the expectation of the random variable.  For the discrete random variables we have looked at this far the expectation is given by the following summation:\n",
    "\n",
    "$$\n",
    "\\mathbb{E}(X) = \\sum_{i=0}^\\infty x_i f_X(x_i) \n",
    "$$\n",
    "\n",
    "In the previous exercise we showed that we could exploit the law of large numbers and estimate the expectation for a random variable by generating a large number of random variables from a distribution.  We then added these $N$ random variables together and divided by $N$ in order to get our estimate of the expectation.  The essence of this exercise is to exploit the same idea to estimate the probability mass function.  Now though instead of calculating the expectation for the random variable we calculate a set of expectation values of the form:\n",
    "\n",
    "$$\n",
    "g_X(x_i) = \\mathbb{E}[\\delta( X- x_i)]\n",
    "$$\n",
    "\n",
    "where the $\\delta$ in the above is the following function:\n",
    "\n",
    "$$\n",
    "\\delta(x) =\n",
    "\\begin{cases}\n",
    "1 & \\textrm{if} \\quad x=0 \\\\\n",
    "0 & \\textrm{otherwise}\n",
    "\\end{cases}\n",
    "$$\n",
    "\n",
    "This expectation thus measures the fraction of times that the random variable $X$ is equal to $x_i$.  If we do this for each of the possible values that $X$ can take we get an estimate of the probability mass function.  This is the basis of calculating a histogram a technique that you have most certainly encountered before.  Can you see why?\n",
    "\n",
    "# Some tools you will need\n",
    "\n",
    "As always I have written you some functions that you will need in order to complete this exercise so press shift and enter on the cell below now in order to load them."
   ]
  },
  {
   "cell_type": "code",
   "execution_count": 75,
   "metadata": {
    "collapsed": true
   },
   "outputs": [],
   "source": [
    "import math\n",
    "import matplotlib\n",
    "matplotlib.use('TKAgg')\n",
    "import matplotlib.pyplot as plt\n",
    "import matplotlib.animation as anim\n",
    "import random\n",
    "\n",
    "def run(data):\n",
    "    xdata,ydata = data\n",
    "    run.ax.set_ylim(0,max(ydata))\n",
    "    run.ax.grid    \n",
    "    run.line1.set_data(xdata, ydata )\n",
    "    return run.line1\n",
    "        \n",
    "def dynamicplot( ngen, operation, xmin, xmax, myvar):\n",
    "    fig, run.ax = plt.subplots()        \n",
    "    run.line1, = run.ax.plot([],[],linestyle=':', marker='o', color='b')\n",
    "    run.ax.set_xlim(xmin,xmax)\n",
    "    run.ax.set_ylim(0,1)\n",
    "    run.ax.grid\n",
    "    \n",
    "    ani = anim.FuncAnimation(fig, run, operation( ngen, myvar ), interval=1, repeat=False)\n",
    "    plt.show()"
   ]
  },
  {
   "cell_type": "markdown",
   "metadata": {},
   "source": [
    "# Constructing a histogram for a discrete random variable\n",
    "\n"
   ]
  },
  {
   "cell_type": "markdown",
   "metadata": {},
   "source": [
    "For this first exercise we are going the experiment we are going to do is going to involve rolling two fair dice and taking the sum of the two outcomes.  As always though these dice will be virtual.  Use the cell below to write a program that returns the sum from a pair of fair dice rolls.  Call your program gendice and check it is working correctly.  If the program is working correctly the output should be a random integer, $2 \\le X \\le 12$.  Run it a few times to double check that this as the output should be random each time. "
   ]
  },
  {
   "cell_type": "code",
   "execution_count": 78,
   "metadata": {
    "collapsed": true
   },
   "outputs": [],
   "source": []
  },
  {
   "cell_type": "markdown",
   "metadata": {},
   "source": [
    "We are now going to estimate the probability mass function for the random number generator you have just written by making use of some code that I have written below.  The code below will calculate the histogram you require and will give you a dynamic plot that shows how the histogram changes as more and more points are generated.  Press shift and enter on the cell below to run this calculation now. "
   ]
  },
  {
   "cell_type": "code",
   "execution_count": 84,
   "metadata": {
    "collapsed": false
   },
   "outputs": [],
   "source": [
    "class histoclass(object) :\n",
    "    def __init__( self, xmin, xmax, nbins ):\n",
    "        self.xmin=xmin\n",
    "        self.xmax=xmax\n",
    "        self.delr = (xmax-xmin) / float(nbins-1)\n",
    "        self.xdata = []\n",
    "        self.ycount = []\n",
    "        for i in range(0,nbins) :\n",
    "            self.xdata.append( xmin+i*self.delr )\n",
    "            self.ycount.append(0)\n",
    "            \n",
    "    def buildHistogram( self, ngen, myvar ) :\n",
    "        cnt=0\n",
    "        while cnt<ngen :\n",
    "            cnt += 1\n",
    "            X = myvar()\n",
    "            nbin = int(X - self.xmin)\n",
    "            self.ycount[nbin] += 1\n",
    "            tdata = []\n",
    "            for dat in self.ycount :\n",
    "                tdata.append( dat / cnt )\n",
    "            yield self.xdata, tdata\n",
    "        \n",
    "\n",
    "myhisto = histoclass( 2., 12., 11 )\n",
    "dynamicplot( 1000, myhisto.buildHistogram, myhisto.xmin, myhisto.xmax, gendice )"
   ]
  },
  {
   "cell_type": "markdown",
   "metadata": {},
   "source": [
    "Now that we have code to generate a histogram for rolling two dice take some time to experiment with the above code by running it multiple times.  The outputs you get on two successive runs of the above code are never the same.  Why is this?  Write about this in your notes on this exercise.  In addition, consider the following questions and write answers to them in your report:\n",
    "\n",
    "- In the program I draw a dotted lines between the points in my histogram because it makes the animation look more appealing.  In actuality I should not draw this line.  Can you explain why?  \n",
    "- What is the most likely outcome of this experiment in which two dice are rolled?  Is your histogram always peaked at this value?  If it is not why is it not peaked at this value?\n",
    "- We can determine the probability mass function for rolling two dice using the classical interpretation of probability.  Do this and draw a the resulting probability mass function in your notes.  Does the probability mass function you have drawn resemble the one that you have obtained using the program above.  If it does not how does it differ, why might we expect it to be different and what might we do to get a histogram that more closely resembles the histogram you have drawn.  "
   ]
  },
  {
   "cell_type": "markdown",
   "metadata": {},
   "source": [
    "# Examining the histogram code more carefully\n",
    "\n",
    "For this next exercise I want you to look more carefully at the code that we have just used to calculate the histogram.  As such I have copied the code above into the cell below and added comments explaining what each line in the code is doing.  \n",
    "\n",
    "The first important thing to note here is that, in order to use the dynamic plotting tools and in order to make all the lines of code for calculating the histogram visible to you, I have had to write this program using a programming paradigm known as the object oriented paradigm ().  To be clear in the programs we have written thus far we have used python as if it is a procedural language so the building blocks of our programs have been variables that hold data and functions that change the values of these variables.  In the object oriented program below, by contrast, the building blocks are bundles of variables and functions called classes.  When we use this style of programming we have to do two things:\n",
    "\n",
    "- We have to declare our class and explain what functions and variables are contained within it.  In the program below this is done by the set of lines that starts with class histoclass2 and that ends when the code is no longer indented.\n",
    "- We have to create an instance of our class so as to set the intial values of all the variables within it.  In the program below this is done by the line myhisto = histoclass2( 2., 12., 11)\n",
    "\n",
    "The reason I mention this is because it is important to understand in terms of understanding the flow of the code.  In essence everything in the function called \\_\\_init\\_\\_ is called first as this is done when the object is created.  The functions in buildHistogram are then run second.  Within buildHistogram the variables with names like self.ycount are variables that belong to the class.  Hence, the initial values for these variables are set in \\_\\_init\\_\\_.  The values of these variables are then used or modified in buildHistogram.  "
   ]
  },
  {
   "cell_type": "code",
   "execution_count": 85,
   "metadata": {
    "collapsed": true
   },
   "outputs": [],
   "source": [
    "# This is the declaration of a new type of object (see above) Notice I had to \n",
    "# change the name of the class here compared to the original version\n",
    "class histoclass2(object) :\n",
    "    # This is the so called constructor for the object.  This function is called first.\n",
    "    # There are four arguments passed to this function.  \n",
    "    # self you don't need to worry about\n",
    "    # xmin=lowest possible value that the random variable can take\n",
    "    # xmax=largest possible value that the random variable can take\n",
    "    # nbins=number of values between xmin and xmax and including xmin and xmax that the random variable can take\n",
    "    def __init__( self, xmin, xmax, nbins ):\n",
    "        # These two lines ensure that xmin and xmax are stored in the class so that we can \n",
    "        # access these values later in buildHistogram.  \n",
    "        self.xmin=xmin\n",
    "        self.xmax=xmax\n",
    "        # We will see the importance of this parameter later when we learn to deal with \n",
    "        # continuous random variables.  For the time being, though, all you need to know is \n",
    "        # that xmin, xmax and nbins are set correctly this will be equal to one. \n",
    "        self.delr = (xmax-xmin) / float(nbins-1)\n",
    "        # Create an empty list, which will eventually hold the set of possible values the random variable can take \n",
    "        self.xdata = []\n",
    "        # Create an empty list to hold the number of instances for a particular x values\n",
    "        self.ycount = []\n",
    "        # This loop adds one item for each of the possible values the random variable can take to the lists \n",
    "        # created above.\n",
    "        for i in range(0,nbins) :\n",
    "            # Add the values that the random variable can take to the list xdata.\n",
    "            self.xdata.append( xmin+i*self.delr )\n",
    "            # Set the counter for this particular xvalue equal to zero.\n",
    "            self.ycount.append(0)\n",
    "\n",
    "    # This builds our histogram object.  This function is called second.\n",
    "    # There are three arguments passed to this function.\n",
    "    # self you don't need to worry about.\n",
    "    # ngen = number of random variables to generate\n",
    "    # myvar = function that generates the random variables\n",
    "    def buildHistogram( self, ngen, myvar ) :\n",
    "        cnt=0\n",
    "        # This while condition together with the fact that we add one to cnt on each \n",
    "        # pass through the loop ensures that we only generate ngen random variables\n",
    "        while cnt<ngen :\n",
    "            cnt += 1\n",
    "            # Generate an instance of the random variable.  For our two dice example this will be a number 2 <= X <=12\n",
    "            X = myvar()\n",
    "            # Notice that, although our random variable can take values 2,3,4,5,6,7,8,9.10,11,12\n",
    "            # the indexes for our counter list (self.ylist) are 0,1,2,3,4,5,6,7,8,9,10\n",
    "            # We can thus go from the value of the random variable to the index of self.ylist\n",
    "            # by subtracting two from the random variable we generated.  This is what is done\n",
    "            # on this line.\n",
    "            nbin = int(X - self.xmin)\n",
    "            # We now add one count to the correct counter.  To be clear for our two dice example the value of \n",
    "            # self.ycount[nbin] tells us the number of times that the random variable has\n",
    "            # been equal to nbin+2\n",
    "            self.ycount[nbin] += 1\n",
    "            # This last part converts the counts of the number of times each number has appeared into a measure\n",
    "            # of the fraction of time each number has appeared.  We do this by dividing by the total number of \n",
    "            # random variables we have generated.\n",
    "            tdata = []\n",
    "            for dat in self.ycount : # This command is telling Python to loop over all the items in the list self.ycount\n",
    "                tdata.append( dat / cnt )\n",
    "            yield self.xdata, tdata\n",
    "        \n",
    "# Here we create an instance of the histoclass2 class.  The three numbers required to create this\n",
    "# instance are:\n",
    "# The minimum value that the random variable can take = 2\n",
    "# The maximum value that the random variable can take = 12\n",
    "# The number of integer values between these two extremes (including the two extremes) = 11 \n",
    "myhisto2 = histoclass2( 2., 12., 11 )\n",
    "# This plots our histogram using the dynamic plot routine that is by now hopefully familiar\n",
    "# In this version the arguments are:\n",
    "# The number of instances of the variable that we would like to generate = 1000\n",
    "# The function that generates the data to be plotted = myhisto2.buildHistogram\n",
    "# The lower bound for the xaxis = myhisto2.xmin (lowest value that the random variable can take)\n",
    "# The upper bound for the yaxis = myhisto2.xmax ( highest value that the random variable can take)\n",
    "# The function that generates the random variables = gendice\n",
    "dynamicplot( 1000, myhisto2.buildHistogram, myhisto2.xmin, myhisto2.xmax, gendice )"
   ]
  },
  {
   "cell_type": "markdown",
   "metadata": {},
   "source": [
    "To double check that we have understood everything lets work through the mathematics that the above code is performing.  For our two dice example we are essentially estimating the values of 11 expectation values using the law of large numbers:\n",
    "\n",
    "$$\n",
    "\\lim_{n \\rightarrow \\infty} P\\left( \\left|\\frac{S_n}{n} - \\mathbb{E}(X) \\right| < \\epsilon \\right) = 0 \\qquad \\textrm{where} \\qquad S_n = X_1 + X_2 + X_3 + \\dots\n",
    "$$\n",
    "\n",
    "In other words, we are generating 11 separate sums, $S_n$, of identically distributed random variables, $g_i(X)$, and inserting these into the expression above.  What are these random variables (or more accurately what are these functions of a random variable)?  Well they are the following:\n",
    "\n",
    "$$\n",
    "g_i(X) = \\begin{cases}\n",
    "1 & \\textrm{if} \\quad X=i \\\\\n",
    "0 & \\textrm{otherwise}\n",
    "\\end{cases}\n",
    "$$\n",
    "\n",
    "In other words the $i$th of our 11 random variables is a Bernoulli random variables that is one if the random variable $X$ (which we get by rolling the two dice) is equal to $i$ and zero otherwise.  Obviously, in our two dice example $2 \\le i \\le 12$.  Now the law of large numbers tells us that the series $\\frac{g_i(X_1) + g_i(X_2) + g_i(X_3) + g_i(X_4) + \\dots + g_i(X_n)}{n}$ will converge to the expectation $\\mathbb{E}[g_i(X)]$ if we generate a sufficiently large number of random variables, $n$.  To be clear this is what we saw in the exercises on the law of large numbers.  Furthermore, we know that the probability mass function of a Bernoulli random variable is:\n",
    "\n",
    "$$\n",
    "f_Y(x) = P(Y=x) = \\begin{cases}\n",
    "1-p & \\textrm{if} \\quad x=0 \\\\\n",
    "p & \\textrm{if} \\quad x=1 \\\\\n",
    "0 & \\textrm{otherwise}\n",
    "\\end{cases}\n",
    "$$\n",
    "\n",
    "and hence that the expectation of this random variable is just $p$.  In other words, the expectation (which we can estimate by exploiting the law of large numbers) is equal to the probability that our random variable, $g_i(X)$, is equal to one.  The function for $g_i$ above tells us that $g_i$ is only equal to one if the random variable $X=i$.  Consequently, the expectation for the Bernoulli random variable that we estimate using the law of large numbers is an estimate of the probability of getting $X=i$, where $X$ is our original random variable which measures the probability of getting a particular outcome when we roll two dice. \n",
    "\n",
    "Hopefully having read all this you now understand the logic of this program.  If so try the following exercises.\n",
    "\n",
    "- Modify the code above so that it calculates the histogram for rolling a single fair die.  Before running the code think about what this probability mass function should look like.  In your notes write about how your estimate compares with your expectations?\n",
    "- Modify the code above so that it calculates the histogram for rolling three dice.  Again think about what the probability mass function should look like before you run the code and write about how your esimtate compares with your expectations.\n",
    "- Write a program to generate the outcome from a roll of $N$ dice, where $N$ is a parameter that you provide as input to the code.  Use your new random number generator and the histogram plotting tools provided to see how the histograms you obtain change as you increase the number of dice that are rolled.  In your notes on this exercise describe what you observe.\n",
    "\n",
    "# Calculating histograms for continuous random variables"
   ]
  },
  {
   "cell_type": "code",
   "execution_count": null,
   "metadata": {
    "collapsed": true
   },
   "outputs": [],
   "source": []
  }
 ],
 "metadata": {
  "kernelspec": {
   "display_name": "Python 3",
   "language": "python",
   "name": "python3"
  },
  "language_info": {
   "codemirror_mode": {
    "name": "ipython",
    "version": 3
   },
   "file_extension": ".py",
   "mimetype": "text/x-python",
   "name": "python",
   "nbconvert_exporter": "python",
   "pygments_lexer": "ipython3",
   "version": "3.5.1"
  }
 },
 "nbformat": 4,
 "nbformat_minor": 0
}
