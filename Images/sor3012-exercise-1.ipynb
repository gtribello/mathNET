{
 "cells": [
  {
   "cell_type": "markdown",
   "metadata": {},
   "source": [
    "# Notes on the first blockly exercise for SOR3012\n",
    "\n",
    "You are strongly encouraged to write notes similar to these whenever you complete one of the blockly exercises that is on mathNET.  Make these notes <b> as you are doing the exercise. </b> I would recommend operating as follows:\n",
    "\n",
    "- When you start a new exercise create a title in your notes like level 1.  \n",
    "- Copy the question that was asked into a markdown cell under the title.  \n",
    "- Work on the blockly exercise and once you have a working implementation copy the code that is generated when you use the show code button into a code cell.\n",
    "- Make suitable modifications to the copied code so that the code works in the notebook.  \n",
    "- Add a final markdown cell and include within this cell a description of the material that is covered in the videos and an explanation of what your code does.  You may also want to include links in these sections so you can find useful material that you have looked at online again.  \n",
    "I followed these instructions when making the notes that follow.  Please note also that you are making these notes <b> for your own benefit </b>.  Plese <b> do not </b> hand notes like these in for any module assignment."
   ]
  },
  {
   "cell_type": "code",
   "execution_count": 2,
   "metadata": {
    "collapsed": true
   },
   "outputs": [],
   "source": [
    "# This cell loads a collection of useful python libraries into your notebook.  \n",
    "# I would recommend copying these three lines into a cell at the top of every workbook that \n",
    "# you write.\n",
    "import matplotlib.pyplot as plt\n",
    "%matplotlib inline\n",
    "import numpy as np"
   ]
  },
  {
   "cell_type": "markdown",
   "metadata": {},
   "source": [
    "## Level 1\n",
    "\n",
    "Use the blocks to generate plot a point on the graph at the point $(1,2)$."
   ]
  },
  {
   "cell_type": "code",
   "execution_count": 11,
   "metadata": {},
   "outputs": [
    {
     "data": {
      "image/png": "[encoded data removed]",
      "text/plain": [
       "<matplotlib.figure.Figure at 0x10eb4b198>"
      ]
     },
     "metadata": {},
     "output_type": "display_data"
    }
   ],
   "source": [
    "plt.plot( [1], [2], '.' )\n",
    "plt.show()"
   ]
  },
  {
   "cell_type": "markdown",
   "metadata": {},
   "source": [
    "You can use matplotlib.pyplot.plot to draw graphs.  This function takes two lists as input.  The first of these lists is the set of $x$ coordinates, while the second is the set of $y$ coordinates.  The full stop in inverted commas tells pyplot to represent each point using dot.  There are other commands that allow one to draw lines and so on.  For more information on matplotlib you can look here:\n",
    "\n",
    "https://matplotlib.org/users/pyplot_tutorial.html"
   ]
  },
  {
   "cell_type": "markdown",
   "metadata": {},
   "source": [
    "## Level 2\n",
    "\n",
    "Use the blocks below to create a variable, $X$, and set $X$ to some value of your chosing.  Once you have done so use the blocks to plot a point at $(X,2X)$."
   ]
  },
  {
   "cell_type": "code",
   "execution_count": 12,
   "metadata": {},
   "outputs": [
    {
     "data": {
      "image/png": "[encoded data removed]",
      "text/plain": [
       "<matplotlib.figure.Figure at 0x10edae710>"
      ]
     },
     "metadata": {},
     "output_type": "display_data"
    }
   ],
   "source": [
    "x = 2\n",
    "y = 2*x\n",
    "plt.plot( [x], [y], '.')\n",
    "plt.show()"
   ]
  },
  {
   "cell_type": "markdown",
   "metadata": {},
   "source": [
    "In doing this exercise we introduced the concept of a variable.  Variables have a state that we set to a particular numerical value.  Furthermore, when programming we can use variables within arithmetic expressions."
   ]
  },
  {
   "cell_type": "markdown",
   "metadata": {},
   "source": [
    "## Level 3\n",
    "\n",
    "Use the blocks to generate a uniform random variable, $X$.  Plot a point on the graph at $(1,X)$."
   ]
  },
  {
   "cell_type": "code",
   "execution_count": 13,
   "metadata": {},
   "outputs": [
    {
     "data": {
      "image/png": "[encoded data removed]",
      "text/plain": [
       "<matplotlib.figure.Figure at 0x10ee726d8>"
      ]
     },
     "metadata": {},
     "output_type": "display_data"
    }
   ],
   "source": [
    "u = np.random.uniform(0,1)\n",
    "plt.plot( [1], [u], '.' )\n",
    "plt.show()"
   ]
  },
  {
   "cell_type": "markdown",
   "metadata": {},
   "source": [
    "In the videos that introduced this exercise the concept of a function was introduced.  Functions change the state of variables and python contains many so called intrinsic functions that allow us (the programmer) to do many tasks easily.  One function that will be very useful for this module is the random.uniform function that is used in the code above.  This function generates random variables between 0 and 1 from a uniform distribution.  An ability to generate these uniform random variables will prove very useful in the remainder of this module."
   ]
  },
  {
   "cell_type": "markdown",
   "metadata": {},
   "source": [
    "## Level 5\n",
    "\n",
    "Use the blocks to generate a random variable, $Y$, from a bernoulli distribution with $p=0.75$.  Plot a point on the graph at $(1,Y)$."
   ]
  },
  {
   "cell_type": "code",
   "execution_count": 14,
   "metadata": {},
   "outputs": [
    {
     "data": {
      "image/png": "[encoded data removed]",
      "text/plain": [
       "<matplotlib.figure.Figure at 0x10eef9208>"
      ]
     },
     "metadata": {},
     "output_type": "display_data"
    }
   ],
   "source": [
    "p, u = 0.75, np.random.uniform(0,1)\n",
    "if u < (1-p) : b = 0\n",
    "else : b = 1\n",
    "    \n",
    "plt.plot( [1], [b], '.' )\n",
    "plt.show()"
   ]
  },
  {
   "cell_type": "markdown",
   "metadata": {},
   "source": [
    "A bernoulli random variable, $Y$, is a random variable with the following probability mass function:\n",
    "\n",
    "$$\n",
    "F_Y(y) = \n",
    "\\begin{cases}\n",
    "(1-p) & \\textrm{if} \\quad y = 0 \\\\\n",
    "p & \\textrm{if} \\quad y = 1 \\\\\n",
    "0 & \\textrm{otherwise}\n",
    "\\end{cases}\n",
    "$$\n",
    "\n",
    "We can generate such random variables by generating a uniform random variable and by using an if statement as shown in the code above."
   ]
  },
  {
   "cell_type": "markdown",
   "metadata": {},
   "source": [
    "## Level 6\n",
    "\n",
    "Use the blocks below to create 10 Bernoulli random variables, $\\{X_i\\}$. Store all these random variables in a list use this list to plot a graph with points at $(i, X_i)$ where $i$ runs from 1 to 10."
   ]
  },
  {
   "cell_type": "code",
   "execution_count": 15,
   "metadata": {},
   "outputs": [
    {
     "data": {
      "image/png": "[encoded data removed]",
      "text/plain": [
       "<matplotlib.figure.Figure at 0x10ef58be0>"
      ]
     },
     "metadata": {},
     "output_type": "display_data"
    }
   ],
   "source": [
    "p, x, y = 0.75, 10*[0], 10*[0]\n",
    "for i in range(0,10):\n",
    "    x[i] = i\n",
    "    u = np.random.uniform(0,1)\n",
    "    if u < (1-p) : y[i] = 0\n",
    "    else : y[i] = 1\n",
    "    \n",
    "plt.plot( x, y, '.' )\n",
    "plt.show()"
   ]
  },
  {
   "cell_type": "markdown",
   "metadata": {},
   "source": [
    "In the code above we use a for loop and to repeat a segement of code multiple times.  This is what allows us to create our sample of random variables.  In addition, we use a list to store all the random variables we have generated instead of storing each of them in a separate variable."
   ]
  },
  {
   "cell_type": "code",
   "execution_count": null,
   "metadata": {
    "collapsed": true
   },
   "outputs": [],
   "source": []
  }
 ],
 "metadata": {
  "kernelspec": {
   "display_name": "Python 3",
   "language": "python",
   "name": "python3"
  },
  "language_info": {
   "codemirror_mode": {
    "name": "ipython",
    "version": 3
   },
   "file_extension": ".py",
   "mimetype": "text/x-python",
   "name": "python",
   "nbconvert_exporter": "python",
   "pygments_lexer": "ipython3",
   "version": "3.5.3"
  }
 },
 "nbformat": 4,
 "nbformat_minor": 2
}
