{
 "cells": [
  {
   "cell_type": "markdown",
   "metadata": {},
   "source": [
    "# Ehrenfest Urns\n",
    "\n",
    "In this exercise we are going to look at another famour Markov Chain problem known as the Ehrenfest Urns.  This problem involves a rather nice example of a ergodic markov chain that has a stationary distribution.  The statement of the problem looks something like this:\n",
    "\n",
    "A mathematical model for the process of diffusion of a gas is known as the Ehrenfest urns.  A set of 6 numbered balls is divided (not necessarily equally) between urn A and urn B.  Each minute, a dice is rolled in order to select a random integer between 1 and 6.  The ball with this number is located in one of the urns and is then immediately transferred to the other urn.  The 'state' of the system at any time, $t$, is denoted by $X_t=i$, where $i$ is the number of balls in urn A at that time.\n",
    "\n",
    "In this exercise we are going to write a program to simulate this process.  Before we get onto that though you first need to take some time to understand the problem.  Hence, in your notes on this exercise:\n",
    "\n",
    "- Explain why the number of balls in urn A can be modelled using a Markov chain.\n",
    "- Explain how many states there are in this Markov chain.\n",
    "- Draw the transition graph for this Markov chain.\n",
    "- Identify which states are transient and whcih states are recurrent in this Markov chain.\n",
    "- Write out the transition matrix for this Markov chain.\n",
    "- Calculate the period for each of the states in the chain\n",
    "\n",
    "Once you have completed these tasks then move on to the remainder of the exercises contained herein.  As always these tasks begin with some code for dynamic plotting that I have written for you so please press shift and enter on the cell below to begin."
   ]
  },
  {
   "cell_type": "code",
   "execution_count": null,
   "metadata": {
    "collapsed": true
   },
   "outputs": [],
   "source": [
    "import math\n",
    "%matplotlib notebook\n",
    "import matplotlib\n",
    "import numpy as np\n",
    "import matplotlib.pyplot as plt\n",
    "import matplotlib.animation as anim\n",
    "from matplotlib import rc\n",
    "from IPython.display import HTML\n",
    "import random\n",
    "rc('animation', html='none')\n",
    "\n",
    "class plotobj(object):\n",
    "    def __init__(self,ny,xmin,xmax):\n",
    "        self.fig = plt.figure()\n",
    "        self.ny = ny\n",
    "        self.xmin = xmin\n",
    "        self.xmax = xmax\n",
    "        self.ax = plt.axes(xlim=(xmin,xmax), ylim=(0, 1))\n",
    "    \n",
    "    def setup(self):\n",
    "        self.fno = 0\n",
    "        xdata,ydata = [],[]\n",
    "        for i in range(self.xmin,self.xmax):\n",
    "            xdata.append(i)\n",
    "        for j in range(0,self.ny):\n",
    "            ydata.append([])\n",
    "            for i in range(self.xmin,self.xmax):\n",
    "                ydata[j].append(0)\n",
    "    \n",
    "        self.rects = []\n",
    "        collist = ['r','g','b','r','g','b','r']\n",
    "        for j in range(0,self.ny):\n",
    "            self.rects.append( self.ax.bar(xdata,ydata[j], 0.1, color=collist[j] ) )\n",
    "            for k in range(self.xmin,self.xmax) :\n",
    "                xdata[k] += 0.1\n",
    "                \n",
    "    def run(self,data):\n",
    "        xdata,ydata=data\n",
    "        self.fno +=1\n",
    "        self.fig.suptitle('frame number ' + str(self.fno), fontsize=14, fontweight='bold' )\n",
    "        maxy,j=0,0\n",
    "        for rbunch in self.rects :\n",
    "            i=0\n",
    "            for rect in rbunch :\n",
    "                if self.ny==1 :\n",
    "                    rect.set_height(ydata[i])\n",
    "                    if( ydata[i] > maxy ) :\n",
    "                        maxy = ydata[i]\n",
    "                else :\n",
    "                    rect.set_height(ydata[j,i])\n",
    "                    if( ydata[j,i]>maxy ) :\n",
    "                        maxy = ydata[j,i]\n",
    "                i+=1\n",
    "            j += 1\n",
    "        self.ax.set_ylim(0,maxy+0.1)\n",
    "        return self.rects\n",
    "\n",
    "def dynamicplot( ny, ngen, operation, xmin, xmax, myvar, tinverval=1):\n",
    "    myplot = plotobj(  ny, xmin, xmax )\n",
    "    return anim.FuncAnimation(fig=myplot.fig, func=myplot.run, frames=operation( ngen, myvar ), \n",
    "                                init_func=myplot.setup, interval=10, blit=False, repeat=False)"
   ]
  },
  {
   "cell_type": "markdown",
   "metadata": {},
   "source": [
    "# Introduction\n",
    "\n",
    "In this first section we are going to simulate the behavior of the Markov chain in order to examine whether or not a limiting stationary distribution emerges if we run the chain over a long period of time.  Consequently, in the cell below I have once again provided you with code that you can use to generate a large number of random variables and to generate a histogram from these variables.  Press shift and enter on this cell to load all this code now.  "
   ]
  },
  {
   "cell_type": "code",
   "execution_count": null,
   "metadata": {
    "collapsed": false
   },
   "outputs": [],
   "source": [
    "class histoclass(object) :\n",
    "    def __init__( self, nstates, initstate ):\n",
    "        self.initstate=initstate\n",
    "        self.xdata = []\n",
    "        self.ycount = []\n",
    "        for i in range(0,nstates) :\n",
    "            self.xdata.append( i )\n",
    "            self.ycount.append(0)\n",
    "            \n",
    "    def buildHistogram( self, ngen, myvar ) :\n",
    "        cnt=0\n",
    "        pstate = self.initstate    \n",
    "        while cnt<ngen :\n",
    "            cnt += 1\n",
    "            # Notice that the random number generator function now \n",
    "            # depends on the value generated for the previous random variable \n",
    "            # This is the Markov property.\n",
    "            X = myvar( pstate )   \n",
    "            pstate = X\n",
    "            self.ycount[X] += 1\n",
    "            tdata = []\n",
    "            for dat in self.ycount :\n",
    "                tdata.append( dat / cnt )\n",
    "            yield self.xdata, tdata"
   ]
  },
  {
   "cell_type": "markdown",
   "metadata": {},
   "source": [
    "In the cell below I have written some of the code that you will need in order to generate the histogram.  In particular I have written the calls to dynamic plot that are required in order to build the dynamic histogram.  What I have not done, however, is to write the random number generator.  This is your task.  Modify the function genmove in the code block below so that it generates random moves in accordance with the Markov process (the Ehrenfest Urns) that I described in the introduction to this exercise.  Notice that this function takes the state that I am presently in (instate) as an argument and that it should return the state that I will be in on the next step.  Remember as you write this code that we are assuming that there are 6 balls that can be moved between the two cups."
   ]
  },
  {
   "cell_type": "code",
   "execution_count": null,
   "metadata": {
    "collapsed": false
   },
   "outputs": [],
   "source": [
    "# You need to modify this function as it should \n",
    "# return a random variable.  At the moment it just\n",
    "# generates the number 1, which is not very random.\n",
    "def genmove( instate ):\n",
    "    return 1\n",
    "\n",
    "# Build an instance of the histogram object called myhisto\n",
    "# the arguments here are the number of states in the chain (7)\n",
    "# and the initial state (3)\n",
    "myhisto = histoclass( 7, 3 )\n",
    "# Now build a dynamic histogram that shows how the number of visits\n",
    "# to each states changes as a function of time.  The arguments here are\n",
    "# The number of series to plot = 1\n",
    "# The number of random variables to generate = 1000\n",
    "# The function to use to generate the frames = myhisto.buildHistogram\n",
    "# The lower (0) and upper (7) bounds to use for the x axis\n",
    "# The function that generates our random variables = genmove (see above)\n",
    "dynamicplot( 1, 1000, myhisto.buildHistogram, 0, 7, genmove )"
   ]
  },
  {
   "cell_type": "markdown",
   "metadata": {},
   "source": [
    "Once you have finished writing your function run the cell above and look at the graph that you generate.  Describe what happens to the histogram as the simulation progresses.  Based on what you observer does the chain have a limiting stationary distribution?\n",
    "\n",
    "# The Chapman Kolmogorov Relation \n",
    "\n",
    "In the first exercise we did on ergodic Markov chains we first simulated the chain as we did in the previous section and then looked at the powers of the transition matrix.  When we did this second part we saw that, when we took large powers of the transition matrix, the rows of the resulting $n$-step transition matrix were all approximately equal.  Furthermore, we stated that this was a further manifestation of the existence of the limiting stationary distribution.  In this next section we are thus going to examine the powers of the transition matrix for the Ehrenfest Urn problem.  In the cell below you should thus set a python variable called $A$ equal to the transition matrix for the Ehrenfest Urn problem assuming that there are 6 balls that can be transferred between the two cups.   "
   ]
  },
  {
   "cell_type": "code",
   "execution_count": null,
   "metadata": {
    "collapsed": false
   },
   "outputs": [],
   "source": [
    "A = 1"
   ]
  },
  {
   "cell_type": "markdown",
   "metadata": {},
   "source": [
    "When you run the following code the 7 rows of the transition matrix are plotted as a function of time.  The left-most bars at 0, 1, 2, 3,etc are the first row of the matrix, the next set of bars at 0.1, 1.1, 2.1, 3.1,etc are the second row, the bars at 0.2, 1.2, 2.2, 3.2, etc are the third row and so on up to the seventh row of the matrix.  I shoudl point out that there are thus seven bars for each number (0,1,2,3,4,5,6 and 7).  If it looks like no bar is present then the value of the corresponding transition probability is equal to zero.  Describe what you observe for the transition probabilities for this matrix.  How does what you observe here compare with what you observed when we looked at the three state Markov chain in the previous exercise? "
   ]
  },
  {
   "cell_type": "code",
   "execution_count": null,
   "metadata": {
    "collapsed": false
   },
   "outputs": [],
   "source": [
    "class matrixobj(object):\n",
    "    def __init__(self,nbins,tmatrix):\n",
    "        self.tmatrix = tmatrix \n",
    "        self.xdata = []\n",
    "        for i in range(0,nbins) :\n",
    "            self.xdata.append(i)\n",
    "        \n",
    "    def calcpowers(self,ngen,myvar):\n",
    "        cnt = 0\n",
    "        pmatrix = self.tmatrix\n",
    "        while cnt<ngen :\n",
    "            cnt += 1\n",
    "            # This part calculates the powers of the matrix\n",
    "            pmatrix = np.dot( pmatrix, self.tmatrix )\n",
    "            yield self.xdata,pmatrix\n",
    "\n",
    "mypowers = matrixobj( 7, A )\n",
    "dynamicplot( 7, 100, mypowers.calcpowers, 0, 7, genmove, 1000 )"
   ]
  },
  {
   "cell_type": "markdown",
   "metadata": {
    "collapsed": true
   },
   "source": [
    "# Periodicity and the stationary distribution\n",
    "\n",
    "In the previous exercises you saw that it looks like this Markov chain has a limiting stationary distribution.  However, when we looked more closely at high powers of the matrix we found that the each row of the vector does not seem to tend to a single vector.  Instead each row of the matrix seems to oscillate between the following pair of vectors:\n",
    "\n",
    "$$\n",
    "\\begin{aligned}\n",
    "v_1 = \\left( \n",
    "\\begin{matrix} \n",
    "0 & \\frac{3}{32} & 0 & \\frac{5}{16} & 0 & \\frac{3}{32} & 0\n",
    "\\end{matrix}\n",
    "\\right) & \\qquad \\textrm{and} & \n",
    "v_2 = \\left(\n",
    "\\begin{matrix}\n",
    "\\frac{1}{32} & 0 & \\frac{15}{64} & 0 & \\frac{15}{64} & 0 & \\frac{1}{32}\n",
    "\\end{matrix}\n",
    "\\right)\n",
    "\\end{aligned}\n",
    "$$\n",
    "\n",
    "In this section we are going to try to work out why this is happening.  With this in mind use the cell below to calculate the eigenvalues and eigenvectors of the transition matrix.  In your notes explain how the eigenvalues differ from those in the previous problem and why the powers of the matrix no longer converge to a single vector.  In answering this question you should make reference to the content of this video (https://www.youtube.com/watch?v=1v-GEdV8zys) again. "
   ]
  },
  {
   "cell_type": "code",
   "execution_count": null,
   "metadata": {
    "collapsed": true
   },
   "outputs": [],
   "source": []
  },
  {
   "cell_type": "markdown",
   "metadata": {},
   "source": [
    "# Conclusion\n",
    "\n",
    "To be totally clear we can find a stationary distribution for this Markov chain by using the detailed balance condition:\n",
    "\n",
    "$$\n",
    "\\pi_i p_{ij} = \\pi_j p_{ji}\n",
    "$$\n",
    "\n",
    "As a final exercise in your notes use the above condition to find the stationary distribution for an Ehrenfest Urn Markov chain in which there are $N$ balls that can be transferred between the two cups."
   ]
  },
  {
   "cell_type": "code",
   "execution_count": null,
   "metadata": {
    "collapsed": true
   },
   "outputs": [],
   "source": []
  }
 ],
 "metadata": {
  "kernelspec": {
   "display_name": "Python 3",
   "language": "python",
   "name": "python3"
  },
  "language_info": {
   "codemirror_mode": {
    "name": "ipython",
    "version": 3
   },
   "file_extension": ".py",
   "mimetype": "text/x-python",
   "name": "python",
   "nbconvert_exporter": "python",
   "pygments_lexer": "ipython3",
   "version": "3.5.1"
  }
 },
 "nbformat": 4,
 "nbformat_minor": 0
}
