{
 "cells": [
  {
   "cell_type": "markdown",
   "metadata": {},
   "source": [
    "# The M/M/1 Queue\n",
    "\n",
    "In this exercise we are going to learn how to simulate a queues.  Before you start the programming exercises take a moment to look at the theory of the M/M/1 Queue, which is covered in this video .  Once you have watched the video and done this revision take a moment to write the following things in your notes on this exercise:\n",
    "\n",
    "- Write out the Kolmogorov equation.\n",
    "- Write out the transition graphs for M/M/1 Queues with finite and inifinite capacities.\n",
    "- Write out the jump rate matrices for M/M/1 Queues with finish and infinite capacities.\n",
    "- Explain what conditions must be satisfied for an M/M/1 to have a stationary distribution.\n",
    "- Derive an expression for the exepcted number of people in the queue by finding the stationary distribution of the chain.\n",
    "\n",
    "# Simulating the Queue\n",
    "\n",
    "In all the exercises we have performed prior to this one we have simulated the random events in \"real time.\"  I mean by this that the order in which the random numbers that underpin our phenomenon were generated was the same as the order in which those events happen in actuality.  We cannot perform simulations of a queue in the same way.  Instead we are going to have to generate a large number of random numbers beforehand and then assemble the random numbers in order to get the timings of our queue.  This worksheet will take you through this process but at variance with some of the other exercises you are going to have to do the bulk of the programming.  To do this programming you will need to refer back to the previous exercises.  We have covered all the pieces that you will need in other exercises.\n",
    "\n",
    "Lets begin to simulate our queue by looking at when the customers arrive.  If you remember correctly customers arrive in an M/M/1 queue in accordance with a Poisson Process.  Furthermore, we have learnt how to simulate Poisson processes.  Hence, use the cell below to generate a list containing the arrival times for the 1000 people who we are going to join our queue. "
   ]
  },
  {
   "cell_type": "code",
   "execution_count": null,
   "metadata": {
    "collapsed": true
   },
   "outputs": [],
   "source": []
  },
  {
   "cell_type": "markdown",
   "metadata": {},
   "source": [
    "The next step is to think about how long it takes each of our 1000 customers to get served once they are at the front of the queue.  Once again we know what to do here.  The ammount of time it takes an individual customer to get served (once they are at the front of the queue) is given by an exponentially distributed random variable.  We learnt how to generate random numbers from the exponential distribution in the exercise on Poisson process.  Hence, in the cell below generate 1000 exponentially distributed random variables and put them in a list.  We will use these random variables to tell us how long it is going to take to serve each of our customers (once they at the front of the queue."
   ]
  },
  {
   "cell_type": "code",
   "execution_count": null,
   "metadata": {
    "collapsed": true
   },
   "outputs": [],
   "source": []
  },
  {
   "cell_type": "markdown",
   "metadata": {},
   "source": [
    "What we would like to now extract is the time at which person in the queue enters service and the time that they leave service. In order to determine these quantities we need to work through the two lists that we have generated.  The easiest way to understand what to do at this stage is to think about what happens in actuality.  In the description that follows the symbol $T_n$ is used to indicate the time at which each person arrives at the queue - the numbers that are contained in the first of the two lists that we have generated.  The symbol $S_n$ is used to indicate the service times - the numbers that are contained in our second list.  The symbol $E_n$ is used to denote the time at which the $n$th customer starts to be served and the symbol $L_n$ is used to denote the time at which the $n$th customer finishes being served.  These two quantities are what we need to determine in this exercise. With that nomenclature lets think about what happens to the first few people who arrive and queue\n",
    "\n",
    "- The first person arrives at the queue and finds no one is ahead of them.  As such the time it takes them to be served is just equal to S_1.  We can thus set $E_1=0$ and $L_0=S_1$.\n",
    "\n",
    "- The second person arrives in the queue and either finds that the first person has been dealt with.  If this is the case they enter service immediately.  Alternatively they find that the first person is being served in which case they have to wait until the first person is done before they enter service.  Lets think about what these conditions mean in terms of the random variables.  The second person will enter service immediately if the time at which customer 1 is done being served ($L_1$) is less than the time at which customer 2 arrives ($T_2$).  We can thus write that the enter service time of customer 2 ($E_2$) is given by:\n",
    "\n",
    "$$\n",
    "E_2 = \\textrm{max}( L_1, T_2 ) \n",
    "$$\n",
    "\n",
    "where the symbol $\\textrm{max}$ is used to indicate that we would like to take the larger of these two random variables.  We know both these random variables as we calculated $L_1$ in the first step (it is just equal to $S_1$ for the reasons explained above) and $T_2$ is the arrival time for customer 2, which is the second element in the list that we generated in the first step of this exercise.  We can thus calculate $E_2$.  Furthermore, once we have $E_2$ it is easy to calcualte $L_2$ using:\n",
    "\n",
    "$$\n",
    "L_2 = E_2 + S_2\n",
    "$$\n",
    "\n",
    "- The logic that we just used for the first person can be applied to the third person in the queue as well.  Either the second person will have been served when the third person arrives or they will not have done.  We know when the second person finishes being served, however.  We can thus write the third persons enter service time as:\n",
    "\n",
    "$$\n",
    "E_2 = \\textrm{max}( L_2, T_3 ) \n",
    "$$\n",
    "\n",
    "and their leave service time as:\n",
    "\n",
    "$$\n",
    "L_3 = E_3 + S_3\n",
    "$$\n",
    "\n",
    "The result that we have just generated in general.  In other words, we can calculate the $n$th person's enter service time $E_n$ as follows:\n",
    "\n",
    "$$\n",
    "E_n = \\textrm{max}(L_{n-1}, T_n)\n",
    "$$\n",
    "\n",
    "and the $n$th person's leave service time as:\n",
    "\n",
    "$$\n",
    "L_n = E_n + S_n\n",
    "$$\n",
    "\n",
    "Furthermore, you will notice that we don't even need to store the enter service times (the $E_n$s in the above).  In the cell below I thus want you to take the two lists that you have generated for the $T_n$s and the $S_n$s and generate a list containing the leave service times - the $L_n$s."
   ]
  },
  {
   "cell_type": "code",
   "execution_count": null,
   "metadata": {
    "collapsed": true
   },
   "outputs": [],
   "source": []
  },
  {
   "cell_type": "markdown",
   "metadata": {},
   "source": [
    "We are nearly there now.  What we would like to generate is a histogram showing the histogram of queueing times.  Where we define the queuing time as the amount of time that passes between a person first entering the queue ($T_n$) and the time at which they leave the queue ($L_n$).  I want you to use the cell below to construct this histogram. This will involve you generating two lists:\n",
    "\n",
    "- The first of these lists should contain the centers of you histogram bins.  These centers should be a set of equally spaced points on the x axis.  You should call this list xdata \n",
    "- The second list will be a normalized measure of the number of the number of counts in this bin.  You should call this list ydata.\n",
    "\n",
    "Once you have generated these two lists use the cell two below this text cell to draw a graph of your histogram."
   ]
  },
  {
   "cell_type": "code",
   "execution_count": null,
   "metadata": {
    "collapsed": true
   },
   "outputs": [],
   "source": []
  },
  {
   "cell_type": "code",
   "execution_count": null,
   "metadata": {
    "collapsed": false
   },
   "outputs": [],
   "source": [
    "# You should not need to edit the contents of this cell\n",
    "%matplotlib notebook\n",
    "import matplotlib\n",
    "import matplotlib.pyplot as plt\n",
    "\n",
    "fig = plt.figure()\n",
    "ax = plt.axes(xlim=(0,xdata[-1]+width), ylim=(0, 1))\n",
    "width = xdata[1] - xdata[0]\n",
    "for i in range(0,len(xdata)) :\n",
    "    ax.bar( xdata[i], ydata[i], width )"
   ]
  },
  {
   "cell_type": "markdown",
   "metadata": {},
   "source": [
    "# Extending the queue\n",
    "\n",
    "We make a lot of approximations when we simulate queues using the M/M/1 Queue.  In your notes explain what approximations we make by simulating a queue using the M/M/1 queue.  How could we improve our model of a queue by introducing a more realistic distribution for the service times?  Modify the code above so that this more realistic distribution for the service times is used.  How could we incorporate busy periods into our model?  Can you also change the code above to model the busy periods in the queue.   Are the models you are simulating using these new codes still Markovian?   "
   ]
  },
  {
   "cell_type": "code",
   "execution_count": null,
   "metadata": {
    "collapsed": true
   },
   "outputs": [],
   "source": []
  }
 ],
 "metadata": {
  "kernelspec": {
   "display_name": "Python 3",
   "language": "python",
   "name": "python3"
  },
  "language_info": {
   "codemirror_mode": {
    "name": "ipython",
    "version": 3
   },
   "file_extension": ".py",
   "mimetype": "text/x-python",
   "name": "python",
   "nbconvert_exporter": "python",
   "pygments_lexer": "ipython3",
   "version": "3.5.1"
  }
 },
 "nbformat": 4,
 "nbformat_minor": 0
}
