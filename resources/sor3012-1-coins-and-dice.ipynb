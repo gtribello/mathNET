{
 "cells": [
  {
   "cell_type": "markdown",
   "metadata": {},
   "source": [
    "# Generating uniform and bernoulli random variables\n",
    "\n",
    "In this exercise you are going to learn how to write computer programs that generate random variables.  We are going to use computer programming throughout this course as trying to explain the relevant mathematics to a computer is, in my experience, the best way of learning it.  Computers are very literal and stupid beings who provide you with almost zero margin for error.  This makes them increadibly irritating.  However, if you can explain the maths you want to do to these morons then you probably have a pretty solid understanding of it yourself.\n",
    "\n",
    "Before we get started on the relevant material for the course we have to learn how to explain things to the computer.  In other words, we have to learn a bit of computer programming.  There are various different programming languages but for this course we are going to use a language called Python.  We are using this language mainly because it allows me to write these rather nifty ipython notebooks in which I can explain bits of the task you need to do in boxes like this one.  And provide you bits of code that you will need to make your program work in boxes like this next one."
   ]
  },
  {
   "cell_type": "code",
   "execution_count": 1,
   "metadata": {
    "collapsed": true
   },
   "outputs": [],
   "source": [
    "import math\n",
    "import matplotlib.pyplot as plt\n",
    "import random"
   ]
  },
  {
   "cell_type": "markdown",
   "metadata": {},
   "source": [
    "If you left click on the box above and press shift and enter at the same time the code above will execute.  The code there loads some useful features that we will be using in the rest of the exercise.  You'll have a box something like this at the start of each exercise we work through in the course.  The code in some of these might look rather elaborate.  Don't worry about trying to understand what it is doing.  Everything you need to know will be explained in text boxes like this one.\n",
    "\n",
    "Without further ado then lets start learning some python."
   ]
  },
  {
   "cell_type": "markdown",
   "metadata": {},
   "source": [
    "# A (very quick) introduction to python programming\n",
    "\n",
    "In pretty much all programming languages (and python is no exception) you can write mathematical statements like that shown in the box below.  If you click on the box below and press shift and enter at the same time the code within it will execute and the sum shown will be calculated and output beneath the box:"
   ]
  },
  {
   "cell_type": "code",
   "execution_count": 2,
   "metadata": {
    "collapsed": false
   },
   "outputs": [
    {
     "data": {
      "text/plain": [
       "14"
      ]
     },
     "execution_count": 2,
     "metadata": {},
     "output_type": "execute_result"
    }
   ],
   "source": [
    "3+4+7"
   ]
  },
  {
   "cell_type": "markdown",
   "metadata": {},
   "source": [
    "Use the box below write code that calculates the sum of the numbers 48, 73, 13 and 4."
   ]
  },
  {
   "cell_type": "code",
   "execution_count": null,
   "metadata": {
    "collapsed": true
   },
   "outputs": [],
   "source": []
  },
  {
   "cell_type": "markdown",
   "metadata": {},
   "source": [
    "Not exactly difficult.  Can you guess how you write python programs to evalute 48 minus 27, 72 times 84 and 100 divided by 20?  Have a go in the three cells below:"
   ]
  },
  {
   "cell_type": "code",
   "execution_count": null,
   "metadata": {
    "collapsed": true
   },
   "outputs": [],
   "source": []
  },
  {
   "cell_type": "code",
   "execution_count": null,
   "metadata": {
    "collapsed": true
   },
   "outputs": [],
   "source": []
  },
  {
   "cell_type": "code",
   "execution_count": null,
   "metadata": {
    "collapsed": true
   },
   "outputs": [],
   "source": []
  },
  {
   "cell_type": "markdown",
   "metadata": {},
   "source": [
    "Hopefully this is not hard.  Admittedly though you could do all this with your calculator and that fits in your pocket unlike this desktop!  Where computer programming really starts to come into its own is when we introduce variables.  When we introduce variables we can do the calculation 3+4+7 that I did in the first cell as follows:"
   ]
  },
  {
   "cell_type": "code",
   "execution_count": 3,
   "metadata": {
    "collapsed": false
   },
   "outputs": [
    {
     "name": "stdout",
     "output_type": "stream",
     "text": [
      "7\n",
      "14\n"
     ]
    }
   ],
   "source": [
    "a=3\n",
    "b=4\n",
    "c=a+b\n",
    "print(c)\n",
    "d=7\n",
    "c=c+d\n",
    "print(c)"
   ]
  },
  {
   "cell_type": "markdown",
   "metadata": {},
   "source": [
    "This program is still not rocket science.  What the variables have done is allowed us to use these numbers in multiple different ways.  If you execute the cell above (by clicking on it and pressing shift and enter) it should output the numbers 7 and 14.  Furthermore, if you look at the code it should be pretty clear why.  The program above gives the following instructions to the computer:\n",
    "\n",
    "- Set the variable a equal to 3\n",
    "- Set the variable b equal to 4\n",
    "- Set c equal to the sum of variable a and variable b\n",
    "- Print out the current value of c (7)\n",
    "- Set the variable d equal to 7 \n",
    "- Set c to a new value that is equal to the current value of c plus the current value of d\n",
    "- Print out the current value of c (14)\n",
    "\n",
    "OK so if you have understood that write a program that uses variables and print statement and which computes the following two quantities 98 times 62 and 98 times 62 minus 34. "
   ]
  },
  {
   "cell_type": "code",
   "execution_count": null,
   "metadata": {
    "collapsed": true
   },
   "outputs": [],
   "source": []
  },
  {
   "cell_type": "markdown",
   "metadata": {},
   "source": [
    "Now write a program that adds together 3 and 4 and which then multiplies the sum by 2.  In the first box below do this using variables as described above.  In the second box do this calculation using one line of code with no variables.  N.B. to get this to work if you are not using variables you will have to remember some very basic maths. "
   ]
  },
  {
   "cell_type": "code",
   "execution_count": null,
   "metadata": {
    "collapsed": true
   },
   "outputs": [],
   "source": []
  },
  {
   "cell_type": "code",
   "execution_count": null,
   "metadata": {
    "collapsed": true
   },
   "outputs": [],
   "source": []
  },
  {
   "cell_type": "markdown",
   "metadata": {},
   "source": [
    "OK so now that we have some variables we can introduce functions.  A function in programming is the same as a function in mathematics.  Consequently, a function is a mathematical object that takes in some variables we call the <b>arguments</b> and that <b>returns</b> a value (which we unimaginatively call the return value).  For example, the cell below contains a function that calculates the power of the argument that is passed to it:"
   ]
  },
  {
   "cell_type": "code",
   "execution_count": 6,
   "metadata": {
    "collapsed": true
   },
   "outputs": [],
   "source": [
    "def square( a ):\n",
    "    return a*a"
   ]
  },
  {
   "cell_type": "markdown",
   "metadata": {},
   "source": [
    "On its own the <b> function declaration </b> above does nothing (when you pressed shift enter on the above box nothing happened).  To get the function to calculate a power we need to tell it what number we would like the power of.  We can <b>call</b> the function in various ways as shown below. "
   ]
  },
  {
   "cell_type": "code",
   "execution_count": 9,
   "metadata": {
    "collapsed": false
   },
   "outputs": [
    {
     "name": "stdout",
     "output_type": "stream",
     "text": [
      "4\n",
      "9\n",
      "16\n"
     ]
    }
   ],
   "source": [
    "print square(2)\n",
    "a=3\n",
    "print square(a)\n",
    "b=square(4)\n",
    "print(b)"
   ]
  },
  {
   "cell_type": "markdown",
   "metadata": {},
   "source": [
    "In other words:\n",
    "\n",
    "- We can pass a number to the function directly.  \n",
    "- We can pass a variable that was set elsewhere to the function.\n",
    "- We can set a variable equal to the return value of a function.\n",
    "\n",
    "Right then so in the cell below write a function to evaluate the cube of its argument.  Once you have written this function use the numbers 2, 3, 4 and 5 as the arguments of the function.  You can put the function declaration and the function calls in the same box "
   ]
  },
  {
   "cell_type": "code",
   "execution_count": null,
   "metadata": {
    "collapsed": true
   },
   "outputs": [],
   "source": []
  },
  {
   "cell_type": "markdown",
   "metadata": {},
   "source": [
    "Functions are useful because they allow us to reuse the same code over and over again in a large program.  Better still we can load <b> libraries </b> containing functions written by other people and take advantage of their hard work.  This is what I did for you in the very first of the cells in this exercise.  As a consequence we thus have access to a number of useful mathematics functions as shown below. "
   ]
  },
  {
   "cell_type": "code",
   "execution_count": 14,
   "metadata": {
    "collapsed": false
   },
   "outputs": [
    {
     "name": "stdout",
     "output_type": "stream",
     "text": [
      "7.38905609893\n",
      "1.09861228867\n",
      "0.909297426826\n",
      "-0.416146836547\n"
     ]
    }
   ],
   "source": [
    "print( math.exp(2) )   # Exponential function\n",
    "print( math.log(3) )   # Natural logarithm\n",
    "print( math.sin(2) )   # Sine (N.B. argument here must be in radians not degrees)\n",
    "print( math.cos(2) )   # Cosine (again argument must be in radians)"
   ]
  },
  {
   "cell_type": "markdown",
   "metadata": {},
   "source": [
    "(Indicentally I should also point out that anything with a hash sign in front of it is a comment and is not thus interpretted by the programming language.)  "
   ]
  },
  {
   "cell_type": "markdown",
   "metadata": {},
   "source": [
    "If we add one more piece of programming then we are ready to take on the SOR3012 related programming assignment.  The last thing we need is logic structures.  In other words, we need to tell our programs that in somes cases they should do one thing and in other cases they should do something slightly different.  An example program that uses some logic is given below."
   ]
  },
  {
   "cell_type": "code",
   "execution_count": 19,
   "metadata": {
    "collapsed": false
   },
   "outputs": [
    {
     "name": "stdout",
     "output_type": "stream",
     "text": [
      "-1\n",
      "20\n",
      "0\n"
     ]
    }
   ],
   "source": [
    "def myfunc( a, b ):\n",
    "    if( b>a ):\n",
    "        return a\n",
    "    else:\n",
    "        return b\n",
    "\n",
    "print myfunc(10,-1) \n",
    "print myfunc(20,30)\n",
    "print myfunc(3,0)"
   ]
  },
  {
   "cell_type": "markdown",
   "metadata": {},
   "source": [
    "It is relatively easy to understand what this function does from reading it and from the example function calls provided.  It takes in two arguments a and b.  Then if the second argument b is greater than the first argument a it returns a.  If, by contrast, b is less than a it returns a.  In other words, it returns the lesser of its two input arguments.\n",
    "\n",
    "So having seen this example can you write a function that takes in two arguments c and d.  The first argument, c, can be any number.  The second argument, d, by contrast must be a two or a three.  If d is a two the function returns the square of c while if d is a three the funciton returns the cube.  N.B.  A good programmer would reuse the functions he/she had already written to calculate the square and the cube. "
   ]
  },
  {
   "cell_type": "code",
   "execution_count": null,
   "metadata": {
    "collapsed": true
   },
   "outputs": [],
   "source": []
  },
  {
   "cell_type": "markdown",
   "metadata": {},
   "source": [
    "# A virtual coin\n",
    "\n",
    "Many of the probability models we use serve to mimic the behaviour of some real life object.  For example, one of the first things you learnt to think about probabilistically was a coin.  You learnt that a coin is an object that comes up heads half of the time.  In other words, the probability mass function for a coin is:\n",
    "$$\n",
    "f_X(x) = \n",
    "\\begin{cases} \n",
    "0.5 & \\textrm{if} \\quad x=0 \\\\\n",
    "0.5 & \\textrm{if} \\quad x=1 \\\\\n",
    "0 & \\textrm{otherwise}\n",
    "\\end{cases}\n",
    "$$"
   ]
  },
  {
   "cell_type": "markdown",
   "metadata": {},
   "source": [
    "Because there are two possible outcomes in the <b> sample space </b> for the experiment of tossing a coin and because these two possible outcomes are equally likely when we think about modelling a coin we can use the classical interpretation of probability.  The classical interpretation of probability is explained in this video, https://www.youtube.com/watch?v=dEzLR-tReEY ,which you should watch now.\n",
    "\n",
    "As explained in the video we use capital letters to denote the values of random variables in statistics.  There are various different ways of thinking about what these random variables represent but for the time being we will say that a random variable, $X$, represents the outcome of an experiment that will be done in the future.  We can thus only determine $X$ by performing the experiment.  We can manipulate equations containing the random variable prior to doing the experiment, however.\n",
    "\n",
    "Lets now write a program that mimics the behaviour of the coin.  To do so we are going to use an intrinsic python function (something written by someone else) that generates uniformly distributed random numbers between 0 and 1.  (In actuallity computer algorithms cannot  generate random numbers the best we can do is generate pseudo-random numbers.  This is a fascinating topic but we will not dwell on it in here.) \n",
    "\n",
    "We can call the function to generate uniformly distributed random variables as shown in the box below.   "
   ]
  },
  {
   "cell_type": "code",
   "execution_count": 4,
   "metadata": {
    "collapsed": false
   },
   "outputs": [
    {
     "name": "stdout",
     "output_type": "stream",
     "text": [
      "0.323230202128\n",
      "0.138899118214\n",
      "0.500397596948\n"
     ]
    }
   ],
   "source": [
    "print( random.uniform(0,1) )\n",
    "print( random.uniform(0,1) )\n",
    "print( random.uniform(0,1) )"
   ]
  },
  {
   "cell_type": "markdown",
   "metadata": {},
   "source": [
    "In box above you will notice that I have called the function three times with the same arguments.  In the the output underneath the box three different numbers between zero and one have been generated.  Notice how this behaviour is different to the functions we saw in previous exercises, which always returned the same number if we used the same arguments.  I hope you are thus convinced that the function random.uniform is thus really generating random (actually pseudo-random) numbers between 0 and 1.\n",
    "\n",
    "We can now use this pseudo random number generator to write our function that mimics the behaviour of a coin.  I have done this in the cell below:"
   ]
  },
  {
   "cell_type": "code",
   "execution_count": 7,
   "metadata": {
    "collapsed": false
   },
   "outputs": [
    {
     "name": "stdout",
     "output_type": "stream",
     "text": [
      "(1.0, 0.0, 0.0, 1.0, 0.0)\n"
     ]
    }
   ],
   "source": [
    "def coin():\n",
    "    return math.floor( 2*random.uniform(0,1) )\n",
    "\n",
    "print( coin(), coin(), coin(), coin(), coin() )"
   ]
  },
  {
   "cell_type": "markdown",
   "metadata": {},
   "source": [
    "In the above cell I have written the function and called it five times and printed the output to screen.  As you can see the output is a random string of zeros and ones (which represent tails and heads).  If you run it again you will see that this string changes because the output of the coin function is truly random.\n",
    "\n",
    "How then does this work?  The first thing to notice is that the coin has no arguments, which is different to what we have seen before but perfectly normal.  Within the coin function we generate a number between zero and one using the random.uniform intrinsic function that we have seen before.  The number output by this function is multiplied by 2 so the argument of the final function, math.floor, will be a number between 0 and 2.  This math.floor function basically strips any decimal of the part after the decial point and thus returns an integer.  Hence, numbers like 0.48957594 are converted to just 0.0, while numbers like 1.0480484948 are converted to 1.0.  In other words, it truncates decimals and converts them to integers.  The overall function thus:\n",
    "\n",
    "- Generates a random number between 0 and 2\n",
    "- Converts that number to a 0 if it is between 0 and 1 and converts that number to a 1 if it is between 1 and 2.\n",
    "\n",
    "This video, , should hopefully convince you that this function thus mimics the behaviour of a coin.  "
   ]
  },
  {
   "cell_type": "markdown",
   "metadata": {},
   "source": [
    "# Exercises\n",
    "\n",
    "To ensure that you have understood all the material covered in the above try the following two programming exercises.\n",
    "\n",
    "Use the box below to write a function similar to the function that I wrote above for the coin but that mimics the behavior of a die.  Remember a die has a probability mass function as described below:\n",
    "$$\n",
    "f_X(x) = \n",
    "\\begin{cases}\n",
    "\\frac{1}{6} & \\textrm{if} \\quad 1 \\le x \\le 6 \\\\\n",
    "0 & \\textrm{otherwise}\n",
    "\\end{cases}\n",
    "$$"
   ]
  },
  {
   "cell_type": "code",
   "execution_count": null,
   "metadata": {
    "collapsed": true
   },
   "outputs": [],
   "source": []
  },
  {
   "cell_type": "markdown",
   "metadata": {},
   "source": [
    "Now write a function that allows one to model a biased coin.  This function should take a single argument - the probability of getting a head (the probability of getting a one).  This number may or may not be 0.5.  Notice in this case that you should not use the math.floor function and should instead use what you learnt about if statements in this exercise.   "
   ]
  },
  {
   "cell_type": "code",
   "execution_count": null,
   "metadata": {
    "collapsed": true
   },
   "outputs": [],
   "source": []
  },
  {
   "cell_type": "markdown",
   "metadata": {},
   "source": [
    "If you have completed this exercise well done.  You have just written a program that generates random variables from a Bernoulli distribution. <b> Please ask one of the demonstrators to check your code before you move on.</b>  "
   ]
  },
  {
   "cell_type": "code",
   "execution_count": null,
   "metadata": {
    "collapsed": true
   },
   "outputs": [],
   "source": []
  }
 ],
 "metadata": {
  "kernelspec": {
   "display_name": "Python 2",
   "language": "python",
   "name": "python2"
  },
  "language_info": {
   "codemirror_mode": {
    "name": "ipython",
    "version": 2
   },
   "file_extension": ".py",
   "mimetype": "text/x-python",
   "name": "python",
   "nbconvert_exporter": "python",
   "pygments_lexer": "ipython2",
   "version": "2.7.9"
  }
 },
 "nbformat": 4,
 "nbformat_minor": 0
}
